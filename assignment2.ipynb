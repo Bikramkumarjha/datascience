{
 "cells": [
  {
   "cell_type": "markdown",
   "id": "5abe4902-ef28-4817-8a70-34d28095985e",
   "metadata": {},
   "source": [
    "<!-- Q1. Explain Class and Object with respect to Object-Oriented Programming. Give a suitable example. -->\n"
   ]
  },
  {
   "cell_type": "code",
   "execution_count": null,
   "id": "873586c0-55d6-4c1d-82b2-6c3c5c3d4d5d",
   "metadata": {},
   "outputs": [],
   "source": [
    "# Q1. Explain Class and Object with respect to Object-Oriented Programming. Give a suitable example."
   ]
  },
  {
   "cell_type": "code",
   "execution_count": 1,
   "id": "936fc945-fbf8-401a-820d-2605bb5b6ed5",
   "metadata": {},
   "outputs": [],
   "source": [
    "# Class is a detailed description, the definition, and the template of what an object will be. But it is not the object itself. Also, what we call, a class is the building block that leads to Object-Oriented Programming. \n",
    "# It is a user-defined data type, that holds its own data members and member functions, which can be accessed and used by creating an instance of that class. It is the blueprint of any object. Once we have written a class and defined it, we can use it to create as many objects based on that class as we want. In Java, the class contains fields, constructors, and methods. For example, consider the Class of Accounts. There may be many accounts with different names and types,  but all of them will share some common properties, as all of them will have some common attributes like balance, account holder name, etc. So here, the Account is the class."
   ]
  },
  {
   "cell_type": "code",
   "execution_count": null,
   "id": "24a0d698-1366-4259-b343-b4a724bd2cad",
   "metadata": {},
   "outputs": [],
   "source": [
    "Q2. Name the four pillars of OOPs."
   ]
  },
  {
   "cell_type": "code",
   "execution_count": null,
   "id": "19019268-faab-4ec8-ae84-bfdb3218ad7c",
   "metadata": {},
   "outputs": [],
   "source": [
    "ther are four piller of oops \n",
    "1->inheritance\n",
    "2->polymorphism\n",
    "3->abstract\n",
    "4->encapsulation"
   ]
  },
  {
   "cell_type": "code",
   "execution_count": 3,
   "id": "ad3bcf0c-b37b-4d93-af2f-ffb8a022a2a9",
   "metadata": {},
   "outputs": [],
   "source": [
    "# Q3. Explain why the __init__() function is used. Give a suitable example."
   ]
  },
  {
   "cell_type": "code",
   "execution_count": null,
   "id": "41cc2a46-b40b-4d4c-ba61-e5e312a9703b",
   "metadata": {},
   "outputs": [],
   "source": [
    "__init__ are the constructor that are use to insilizesd the attribute of the class attribute\n",
    "\n",
    "\n",
    "class pwskill:\n",
    "    def __init__(self,student,roll,mobile):\n",
    "        self.student=student\n",
    "        self.roll=roll\n",
    "        self.mobile=mobile\n",
    "        \n",
    "    def student_detail():\n",
    "        return self.student,self.roll,self.mobile\n",
    "    #here we define __init__ to used as constructor to the abject attribute\n",
    "    "
   ]
  },
  {
   "cell_type": "code",
   "execution_count": null,
   "id": "83b4fcbe-10b5-457a-aead-d912810ee729",
   "metadata": {},
   "outputs": [],
   "source": [
    " Q4. Why self is used in OOPs?\n",
    "    \n",
    "    ->the self is define to used to bind with the class for define function or we say i\n",
    "    work like a pointer , we can defifine another keyword instead of self "
   ]
  },
  {
   "cell_type": "code",
   "execution_count": null,
   "id": "83c56b3f-22cb-4ddd-be76-8fcf791ded96",
   "metadata": {},
   "outputs": [],
   "source": [
    "\n",
    "Q5. What is inheritance? Give an example for each type of inheritance.\n",
    "\n",
    "->inheritance are the property to inherit the parent property to the child property \n",
    "to same behaviour and functionality \n",
    "there are four type of inheritance\n",
    "1->SIMPLE INHERITANCE-> in simple inheritance child class inhreit the property of parentclass functionality\n",
    "class a:#parent class\n",
    "    def bik(self):\n",
    "        print(\"it okkk\")\n",
    "        \n",
    "class b(a):#child class inherit parent class\n",
    "    def cik(self):\n",
    "        print(\"i am fine\")\n",
    "2->MULTILEVEL INHERITANCE=in the multilevel inheritance child class inherit the property of \n",
    "multiple class of there parent classs\n",
    "3->MULTIvalue INHERITANCE->in multi inheritance the child class access multiple parent class access "
   ]
  }
 ],
 "metadata": {
  "kernelspec": {
   "display_name": "Python 3 (ipykernel)",
   "language": "python",
   "name": "python3"
  },
  "language_info": {
   "codemirror_mode": {
    "name": "ipython",
    "version": 3
   },
   "file_extension": ".py",
   "mimetype": "text/x-python",
   "name": "python",
   "nbconvert_exporter": "python",
   "pygments_lexer": "ipython3",
   "version": "3.10.8"
  }
 },
 "nbformat": 4,
 "nbformat_minor": 5
}
