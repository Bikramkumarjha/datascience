{
 "cells": [
  {
   "cell_type": "code",
   "execution_count": 1,
   "id": "83ce713c-00d1-4864-b8c6-d6fef30e2930",
   "metadata": {},
   "outputs": [],
   "source": [
    "#discanary data typed=\n"
   ]
  },
  {
   "cell_type": "code",
   "execution_count": 2,
   "id": "3f89513e-cbf8-4874-9e61-35032715c71e",
   "metadata": {},
   "outputs": [],
   "source": [
    "d={}#by default it assume"
   ]
  },
  {
   "cell_type": "code",
   "execution_count": 3,
   "id": "d614e3f3-969c-44f6-867e-136f7ce92808",
   "metadata": {},
   "outputs": [
    {
     "data": {
      "text/plain": [
       "dict"
      ]
     },
     "execution_count": 3,
     "metadata": {},
     "output_type": "execute_result"
    }
   ],
   "source": [
    "type(d)\n"
   ]
  },
  {
   "cell_type": "code",
   "execution_count": 4,
   "id": "51572efe-2b00-402b-843d-62c268657ce9",
   "metadata": {},
   "outputs": [],
   "source": [
    "d1={'key':\"subh\"}"
   ]
  },
  {
   "cell_type": "code",
   "execution_count": 5,
   "id": "e391979b-94bd-40f8-ad6e-6d843316d6e1",
   "metadata": {},
   "outputs": [
    {
     "data": {
      "text/plain": [
       "{'key': 'subh'}"
      ]
     },
     "execution_count": 5,
     "metadata": {},
     "output_type": "execute_result"
    }
   ],
   "source": [
    "d1"
   ]
  },
  {
   "cell_type": "code",
   "execution_count": 6,
   "id": "9e95cda6-b063-466f-84f7-c593f1706b07",
   "metadata": {},
   "outputs": [],
   "source": [
    "d2={'name':\"sudhanshu\",'email':\"bikram\",'number':12233232}"
   ]
  },
  {
   "cell_type": "code",
   "execution_count": 7,
   "id": "d17eb41e-0867-45db-8b75-d726912a803e",
   "metadata": {},
   "outputs": [
    {
     "data": {
      "text/plain": [
       "{'key': 'subh'}"
      ]
     },
     "execution_count": 7,
     "metadata": {},
     "output_type": "execute_result"
    }
   ],
   "source": [
    "d1"
   ]
  },
  {
   "cell_type": "code",
   "execution_count": 8,
   "id": "2034b551-c9ed-4400-a9c0-de9376d8cb8f",
   "metadata": {},
   "outputs": [
    {
     "data": {
      "text/plain": [
       "{'name': 'sudhanshu', 'email': 'bikram', 'number': 12233232}"
      ]
     },
     "execution_count": 8,
     "metadata": {},
     "output_type": "execute_result"
    }
   ],
   "source": [
    "d2"
   ]
  },
  {
   "cell_type": "code",
   "execution_count": 12,
   "id": "343679be-2194-4d80-87d1-02be32673877",
   "metadata": {},
   "outputs": [],
   "source": [
    "d3={34:\"ghgh\"}"
   ]
  },
  {
   "cell_type": "code",
   "execution_count": 11,
   "id": "3360fc25-dbe1-44c5-bedd-5653c5c1132f",
   "metadata": {},
   "outputs": [
    {
     "ename": "SyntaxError",
     "evalue": "invalid syntax (3473326700.py, line 1)",
     "output_type": "error",
     "traceback": [
      "\u001b[0;36m  Cell \u001b[0;32mIn[11], line 1\u001b[0;36m\u001b[0m\n\u001b[0;31m    d3={34:\"ghgh\",@hhfg:\"gdgd\"}\u001b[0m\n\u001b[0m                  ^\u001b[0m\n\u001b[0;31mSyntaxError\u001b[0m\u001b[0;31m:\u001b[0m invalid syntax\n"
     ]
    }
   ],
   "source": [
    "d3={34:\"ghgh\",@hhfg:\"gdgd\"}\n",
    "#we ca't put any special symbol "
   ]
  },
  {
   "cell_type": "code",
   "execution_count": 10,
   "id": "204af0bc-b40b-4f54-88e2-3f0e29442791",
   "metadata": {},
   "outputs": [
    {
     "data": {
      "text/plain": [
       "{34: 'ghgh'}"
      ]
     },
     "execution_count": 10,
     "metadata": {},
     "output_type": "execute_result"
    }
   ],
   "source": [
    "d3"
   ]
  },
  {
   "cell_type": "code",
   "execution_count": 2,
   "id": "9b883459-66df-4d3d-94fc-247f6decce7d",
   "metadata": {},
   "outputs": [],
   "source": [
    "d4={232:\"gfkg\",'-wew':\"bikr\",True : 2323}\n",
    "#they accept boolean value but not special character"
   ]
  },
  {
   "cell_type": "code",
   "execution_count": 17,
   "id": "5056512b-bab1-4651-9c6a-f42d2d73f725",
   "metadata": {},
   "outputs": [
    {
     "data": {
      "text/plain": [
       "{34: 'ghgh'}"
      ]
     },
     "execution_count": 17,
     "metadata": {},
     "output_type": "execute_result"
    }
   ],
   "source": [
    "d3"
   ]
  },
  {
   "cell_type": "code",
   "execution_count": 18,
   "id": "34f120c8-d8f7-453f-9d6c-4f1dddd3ce14",
   "metadata": {},
   "outputs": [
    {
     "data": {
      "text/plain": [
       "{232: 'gfkg', '-wew': 'bikr', True: 2323}"
      ]
     },
     "execution_count": 18,
     "metadata": {},
     "output_type": "execute_result"
    }
   ],
   "source": [
    "d4"
   ]
  },
  {
   "cell_type": "code",
   "execution_count": 19,
   "id": "ef8a2335-f9e9-4906-95b9-b790bbc37276",
   "metadata": {},
   "outputs": [
    {
     "data": {
      "text/plain": [
       "'gfkg'"
      ]
     },
     "execution_count": 19,
     "metadata": {},
     "output_type": "execute_result"
    }
   ],
   "source": [
    "d4[232]"
   ]
  },
  {
   "cell_type": "code",
   "execution_count": 22,
   "id": "5ad785da-d58d-4891-8d98-c007ab1e1d7e",
   "metadata": {},
   "outputs": [
    {
     "data": {
      "text/plain": [
       "2323"
      ]
     },
     "execution_count": 22,
     "metadata": {},
     "output_type": "execute_result"
    }
   ],
   "source": [
    "d4[1]#because true assume 1 "
   ]
  },
  {
   "cell_type": "code",
   "execution_count": 3,
   "id": "1f12f4ac-7efa-4c19-841f-a48c0b0fa68b",
   "metadata": {},
   "outputs": [
    {
     "data": {
      "text/plain": [
       "{232: 'gfkg', '-wew': 'bikr', True: 2323}"
      ]
     },
     "execution_count": 3,
     "metadata": {},
     "output_type": "execute_result"
    }
   ],
   "source": [
    "d4"
   ]
  },
  {
   "cell_type": "code",
   "execution_count": 4,
   "id": "7c1dbdfc-0384-4deb-8894-c105167ca3b8",
   "metadata": {},
   "outputs": [
    {
     "data": {
      "text/plain": [
       "'gfkg'"
      ]
     },
     "execution_count": 4,
     "metadata": {},
     "output_type": "execute_result"
    }
   ],
   "source": [
    "d4[232]"
   ]
  },
  {
   "cell_type": "code",
   "execution_count": 16,
   "id": "6c418f37-0093-4dce-a342-6e98b9b6768b",
   "metadata": {},
   "outputs": [],
   "source": [
    "d1={\"name\":\"bikram\",'email': \"bikramjha31\",'name':\"keshav\"}\n",
    "#name show last updated value"
   ]
  },
  {
   "cell_type": "code",
   "execution_count": 12,
   "id": "861c4321-f695-4b1c-872d-bf6057d4a75b",
   "metadata": {},
   "outputs": [
    {
     "ename": "NameError",
     "evalue": "name 'l1' is not defined",
     "output_type": "error",
     "traceback": [
      "\u001b[0;31m---------------------------------------------------------------------------\u001b[0m",
      "\u001b[0;31mNameError\u001b[0m                                 Traceback (most recent call last)",
      "Cell \u001b[0;32mIn[12], line 1\u001b[0m\n\u001b[0;32m----> 1\u001b[0m \u001b[43ml1\u001b[49m[name]\n",
      "\u001b[0;31mNameError\u001b[0m: name 'l1' is not defined"
     ]
    }
   ],
   "source": [
    "l1[name]"
   ]
  },
  {
   "cell_type": "code",
   "execution_count": 14,
   "id": "03aba12e-1e19-4500-b5e8-93bd84ab88fd",
   "metadata": {},
   "outputs": [
    {
     "data": {
      "text/plain": [
       "'keshav'"
      ]
     },
     "execution_count": 14,
     "metadata": {},
     "output_type": "execute_result"
    }
   ],
   "source": [
    "d1['name']#if you type or access key using '   '\n",
    "#so it will we access in number they do't require"
   ]
  },
  {
   "cell_type": "code",
   "execution_count": 19,
   "id": "6ece6c1b-a9b8-40a9-aafd-9b8ec91657b1",
   "metadata": {},
   "outputs": [],
   "source": [
    "d1={\"company\":\"pwskill\",\"course\":[\"web dev\",\"data science\",\"java with dsa\"]}"
   ]
  },
  {
   "cell_type": "code",
   "execution_count": 20,
   "id": "8d9a9339-22ca-425d-8883-6c9b6b7f7c2c",
   "metadata": {},
   "outputs": [
    {
     "data": {
      "text/plain": [
       "{'company': 'pwskill', 'course': ['web dev', 'data science', 'java with dsa']}"
      ]
     },
     "execution_count": 20,
     "metadata": {},
     "output_type": "execute_result"
    }
   ],
   "source": [
    "d1"
   ]
  },
  {
   "cell_type": "code",
   "execution_count": 23,
   "id": "4b1e82ea-205f-4514-b382-a92841b3f555",
   "metadata": {},
   "outputs": [
    {
     "data": {
      "text/plain": [
       "'adhi vj'"
      ]
     },
     "execution_count": 23,
     "metadata": {},
     "output_type": "execute_result"
    }
   ],
   "source": [
    "d1[\"course\"][2][::-2]"
   ]
  },
  {
   "cell_type": "code",
   "execution_count": 28,
   "id": "0021e4a6-5d21-4be0-913d-d494a60bd57b",
   "metadata": {},
   "outputs": [],
   "source": [
    "d6={\"number\":[2,4,65,4,34,43],\"assignment\":(1,2,3,4,5,6,7,8),\"lanch_date\":{28,12,14},\"class_time\":{\"web_dev\":8,\"data science master\":8,\"java with dsa and system design\":23}}"
   ]
  },
  {
   "cell_type": "code",
   "execution_count": 29,
   "id": "d48345e5-69df-4a95-8153-49751c085b7e",
   "metadata": {},
   "outputs": [
    {
     "data": {
      "text/plain": [
       "{'number': [2, 4, 65, 4, 34, 43],\n",
       " 'assignment': (1, 2, 3, 4, 5, 6, 7, 8),\n",
       " 'lanch_date': {12, 14, 28},\n",
       " 'class_time': {'web_dev': 8,\n",
       "  'data science master': 8,\n",
       "  'java with dsa and system design': 23}}"
      ]
     },
     "execution_count": 29,
     "metadata": {},
     "output_type": "execute_result"
    }
   ],
   "source": [
    "d6"
   ]
  },
  {
   "cell_type": "code",
   "execution_count": 30,
   "id": "90d9f2d5-10bd-4422-8adb-c3d2d64c9327",
   "metadata": {},
   "outputs": [
    {
     "data": {
      "text/plain": [
       "23"
      ]
     },
     "execution_count": 30,
     "metadata": {},
     "output_type": "execute_result"
    }
   ],
   "source": [
    "d6['class_time']['java with dsa and system design']"
   ]
  },
  {
   "cell_type": "code",
   "execution_count": 31,
   "id": "f54f6f31-e9b4-427b-ad89-9a0848959eca",
   "metadata": {},
   "outputs": [
    {
     "data": {
      "text/plain": [
       "{'number': [2, 4, 65, 4, 34, 43],\n",
       " 'assignment': (1, 2, 3, 4, 5, 6, 7, 8),\n",
       " 'lanch_date': {12, 14, 28},\n",
       " 'class_time': {'web_dev': 8,\n",
       "  'data science master': 8,\n",
       "  'java with dsa and system design': 23}}"
      ]
     },
     "execution_count": 31,
     "metadata": {},
     "output_type": "execute_result"
    }
   ],
   "source": [
    "d6"
   ]
  },
  {
   "cell_type": "code",
   "execution_count": 32,
   "id": "73697f88-d6ec-4aa1-bb94-fde9e6c9b550",
   "metadata": {},
   "outputs": [],
   "source": [
    "d6['mentor']=[\"sudhanshu\",\"krishna\",\"anurag\"]\n",
    "#add new key value pair"
   ]
  },
  {
   "cell_type": "code",
   "execution_count": 33,
   "id": "a333c7e8-218e-4f55-ba98-82fa2ff78afe",
   "metadata": {},
   "outputs": [
    {
     "data": {
      "text/plain": [
       "{'number': [2, 4, 65, 4, 34, 43],\n",
       " 'assignment': (1, 2, 3, 4, 5, 6, 7, 8),\n",
       " 'lanch_date': {12, 14, 28},\n",
       " 'class_time': {'web_dev': 8,\n",
       "  'data science master': 8,\n",
       "  'java with dsa and system design': 23},\n",
       " 'mentor': ['sudhanshu', 'krishna', 'anurag']}"
      ]
     },
     "execution_count": 33,
     "metadata": {},
     "output_type": "execute_result"
    }
   ],
   "source": [
    "d6"
   ]
  },
  {
   "cell_type": "code",
   "execution_count": 34,
   "id": "31c404ba-5ce3-4e20-8986-c65cf772660d",
   "metadata": {},
   "outputs": [],
   "source": [
    "#delete\n",
    "del d6['number']"
   ]
  },
  {
   "cell_type": "code",
   "execution_count": 35,
   "id": "7c7102df-4ac8-4943-a45e-7063ca981699",
   "metadata": {},
   "outputs": [
    {
     "data": {
      "text/plain": [
       "{'assignment': (1, 2, 3, 4, 5, 6, 7, 8),\n",
       " 'lanch_date': {12, 14, 28},\n",
       " 'class_time': {'web_dev': 8,\n",
       "  'data science master': 8,\n",
       "  'java with dsa and system design': 23},\n",
       " 'mentor': ['sudhanshu', 'krishna', 'anurag']}"
      ]
     },
     "execution_count": 35,
     "metadata": {},
     "output_type": "execute_result"
    }
   ],
   "source": [
    "d6"
   ]
  },
  {
   "cell_type": "code",
   "execution_count": 36,
   "id": "504c48d6-fe21-497d-8c4f-c509f5563238",
   "metadata": {},
   "outputs": [
    {
     "data": {
      "text/plain": [
       "{'assignment': (1, 2, 3, 4, 5, 6, 7, 8),\n",
       " 'lanch_date': {12, 14, 28},\n",
       " 'class_time': {'web_dev': 8,\n",
       "  'data science master': 8,\n",
       "  'java with dsa and system design': 23},\n",
       " 'mentor': ['sudhanshu', 'krishna', 'anurag']}"
      ]
     },
     "execution_count": 36,
     "metadata": {},
     "output_type": "execute_result"
    }
   ],
   "source": [
    "d6"
   ]
  },
  {
   "cell_type": "code",
   "execution_count": 42,
   "id": "1347d1fd-c1a7-47f5-87c5-dff6201730fc",
   "metadata": {},
   "outputs": [
    {
     "data": {
      "text/plain": [
       "dict_keys(['assignment', 'lanch_date', 'class_time', 'mentor'])"
      ]
     },
     "execution_count": 42,
     "metadata": {},
     "output_type": "execute_result"
    }
   ],
   "source": [
    "d6.keys()"
   ]
  },
  {
   "cell_type": "code",
   "execution_count": 44,
   "id": "47552fc1-e756-435e-bd2e-8fbf97432412",
   "metadata": {},
   "outputs": [
    {
     "data": {
      "text/plain": [
       "['assignment', 'lanch_date', 'class_time', 'mentor']"
      ]
     },
     "execution_count": 44,
     "metadata": {},
     "output_type": "execute_result"
    }
   ],
   "source": [
    "list(d6.keys())"
   ]
  },
  {
   "cell_type": "code",
   "execution_count": 45,
   "id": "8975330a-6c6d-445b-8de0-7ba5c7a07a8b",
   "metadata": {},
   "outputs": [
    {
     "data": {
      "text/plain": [
       "[(1, 2, 3, 4, 5, 6, 7, 8),\n",
       " {12, 14, 28},\n",
       " {'web_dev': 8,\n",
       "  'data science master': 8,\n",
       "  'java with dsa and system design': 23},\n",
       " ['sudhanshu', 'krishna', 'anurag']]"
      ]
     },
     "execution_count": 45,
     "metadata": {},
     "output_type": "execute_result"
    }
   ],
   "source": [
    "list(d6.values())"
   ]
  },
  {
   "cell_type": "code",
   "execution_count": 47,
   "id": "ddebba9c-3464-4b9a-95b7-873665345357",
   "metadata": {},
   "outputs": [
    {
     "data": {
      "text/plain": [
       "((1, 2, 3, 4, 5, 6, 7, 8),\n",
       " {12, 14, 28},\n",
       " {'web_dev': 8,\n",
       "  'data science master': 8,\n",
       "  'java with dsa and system design': 23},\n",
       " ['sudhanshu', 'krishna', 'anurag'])"
      ]
     },
     "execution_count": 47,
     "metadata": {},
     "output_type": "execute_result"
    }
   ],
   "source": [
    "tuple(d6.values())"
   ]
  },
  {
   "cell_type": "code",
   "execution_count": 49,
   "id": "796b22e7-e174-4d41-a70e-25a5823c2bb2",
   "metadata": {},
   "outputs": [
    {
     "data": {
      "text/plain": [
       "[('assignment', (1, 2, 3, 4, 5, 6, 7, 8)),\n",
       " ('lanch_date', {12, 14, 28}),\n",
       " ('class_time',\n",
       "  {'web_dev': 8,\n",
       "   'data science master': 8,\n",
       "   'java with dsa and system design': 23}),\n",
       " ('mentor', ['sudhanshu', 'krishna', 'anurag'])]"
      ]
     },
     "execution_count": 49,
     "metadata": {},
     "output_type": "execute_result"
    }
   ],
   "source": [
    "list(d6.items())"
   ]
  },
  {
   "cell_type": "code",
   "execution_count": 56,
   "id": "28699057-fbdd-4274-bced-fb3923a84cb4",
   "metadata": {},
   "outputs": [
    {
     "data": {
      "text/plain": [
       "(1, 2, 3, 4, 5, 6, 7, 8)"
      ]
     },
     "execution_count": 56,
     "metadata": {},
     "output_type": "execute_result"
    }
   ],
   "source": [
    "d6.pop('assignment')"
   ]
  },
  {
   "cell_type": "code",
   "execution_count": 57,
   "id": "85535073-c5bf-481c-9440-4cd4f218769b",
   "metadata": {},
   "outputs": [
    {
     "ename": "KeyError",
     "evalue": "'web_dev'",
     "output_type": "error",
     "traceback": [
      "\u001b[0;31m---------------------------------------------------------------------------\u001b[0m",
      "\u001b[0;31mKeyError\u001b[0m                                  Traceback (most recent call last)",
      "Cell \u001b[0;32mIn[57], line 1\u001b[0m\n\u001b[0;32m----> 1\u001b[0m \u001b[43md6\u001b[49m\u001b[38;5;241;43m.\u001b[39;49m\u001b[43mpop\u001b[49m\u001b[43m(\u001b[49m\u001b[38;5;124;43m'\u001b[39;49m\u001b[38;5;124;43mweb_dev\u001b[39;49m\u001b[38;5;124;43m'\u001b[39;49m\u001b[43m)\u001b[49m\n",
      "\u001b[0;31mKeyError\u001b[0m: 'web_dev'"
     ]
    }
   ],
   "source": [
    "d6.pop('')"
   ]
  },
  {
   "cell_type": "code",
   "execution_count": 94,
   "id": "80d88071-a057-4671-9de4-f58308e686e5",
   "metadata": {},
   "outputs": [
    {
     "data": {
      "text/plain": [
       "{'lanch_date': {12, 14, 28},\n",
       " 'class_time': {'web_dev': 8,\n",
       "  'data science master': 8,\n",
       "  'java with dsa and system design': 23},\n",
       " 'mentor': ['sudhanshu', 'krishna', 'anurag'],\n",
       " 'mynewkey': 'mynewvalue'}"
      ]
     },
     "execution_count": 94,
     "metadata": {},
     "output_type": "execute_result"
    }
   ],
   "source": [
    "d6"
   ]
  },
  {
   "cell_type": "code",
   "execution_count": 59,
   "id": "df60c2e2-5761-4523-a742-487fa8007c4c",
   "metadata": {},
   "outputs": [
    {
     "ename": "TypeError",
     "evalue": "pop expected at least 1 argument, got 0",
     "output_type": "error",
     "traceback": [
      "\u001b[0;31m---------------------------------------------------------------------------\u001b[0m",
      "\u001b[0;31mTypeError\u001b[0m                                 Traceback (most recent call last)",
      "Cell \u001b[0;32mIn[59], line 1\u001b[0m\n\u001b[0;32m----> 1\u001b[0m \u001b[43md6\u001b[49m\u001b[38;5;241;43m.\u001b[39;49m\u001b[43mpop\u001b[49m\u001b[43m(\u001b[49m\u001b[43m)\u001b[49m\n",
      "\u001b[0;31mTypeError\u001b[0m: pop expected at least 1 argument, got 0"
     ]
    }
   ],
   "source": [
    "d6.pop()"
   ]
  },
  {
   "cell_type": "raw",
   "id": "3134915f-a3ea-4075-8cea-54e40d077962",
   "metadata": {},
   "source": [
    "d6['mynewkey'] = \"myalue\"\n"
   ]
  },
  {
   "cell_type": "code",
   "execution_count": 96,
   "id": "37d859ba-b87e-4425-b962-db846223a09a",
   "metadata": {},
   "outputs": [],
   "source": [
    "d6['mynewkey'] = \"myalue\""
   ]
  },
  {
   "cell_type": "raw",
   "id": "9e05c45f-4bfc-4737-8f30-c8391e2754ad",
   "metadata": {},
   "source": [
    "d6\n"
   ]
  },
  {
   "cell_type": "code",
   "execution_count": 97,
   "id": "100d997d-5c9e-4cac-8075-6b9938535d72",
   "metadata": {},
   "outputs": [
    {
     "data": {
      "text/plain": [
       "{'lanch_date': {12, 14, 28},\n",
       " 'class_time': {'web_dev': 8,\n",
       "  'data science master': 8,\n",
       "  'java with dsa and system design': 23},\n",
       " 'mentor': ['sudhanshu', 'krishna', 'anurag'],\n",
       " 'mynewkey': 'myalue'}"
      ]
     },
     "execution_count": 97,
     "metadata": {},
     "output_type": "execute_result"
    }
   ],
   "source": [
    "d6"
   ]
  },
  {
   "cell_type": "markdown",
   "id": "ad1b1ee0-1d01-43be-b6bd-f718e6a469c4",
   "metadata": {},
   "source": [
    "d6"
   ]
  },
  {
   "cell_type": "code",
   "execution_count": 87,
   "id": "5aaa2864-fc30-4391-8302-24494e63d35d",
   "metadata": {},
   "outputs": [
    {
     "data": {
      "text/plain": [
       "{'lanch_date': {12, 14, 28},\n",
       " 'class_time': {'web_dev': 8,\n",
       "  'data science master': 8,\n",
       "  'java with dsa and system design': 23},\n",
       " 'mentor': ['sudhanshu', 'krishna', 'anurag'],\n",
       " 'mynewkey': ['mynewvalue']}"
      ]
     },
     "execution_count": 87,
     "metadata": {},
     "output_type": "execute_result"
    }
   ],
   "source": [
    "d6"
   ]
  },
  {
   "cell_type": "code",
   "execution_count": 71,
   "id": "c776dcc4-4633-4fc9-8943-7634133c721f",
   "metadata": {},
   "outputs": [
    {
     "data": {
      "text/plain": [
       "{'lanch_date': {12, 14, 28},\n",
       " 'class_time': {'web_dev': 8,\n",
       "  'data science master': 8,\n",
       "  'java with dsa and system design': 23},\n",
       " 'mentor': ['sudhanshu', 'krishna', 'anurag']}"
      ]
     },
     "execution_count": 71,
     "metadata": {},
     "output_type": "execute_result"
    }
   ],
   "source": [
    "d6"
   ]
  },
  {
   "cell_type": "code",
   "execution_count": 78,
   "id": "f075330c-c072-457b-ac91-a943f62e2b34",
   "metadata": {},
   "outputs": [],
   "source": [
    "d6['mynewkey'] = [\"mynewvalue\"]"
   ]
  },
  {
   "cell_type": "code",
   "execution_count": 76,
   "id": "00f5faea-d5e1-4222-8463-a21a4a910485",
   "metadata": {},
   "outputs": [],
   "source": [
    "d6['mynewkey'] = [\"23323\"]"
   ]
  },
  {
   "cell_type": "code",
   "execution_count": 83,
   "id": "0d2ea938-d37a-4407-ab84-62a26f35e885",
   "metadata": {},
   "outputs": [
    {
     "data": {
      "text/plain": [
       "({12, 14, 28},\n",
       " {'web_dev': 8,\n",
       "  'data science master': 8,\n",
       "  'java with dsa and system design': 23},\n",
       " ['sudhanshu', 'krishna', 'anurag'],\n",
       " ['mynewvalue'])"
      ]
     },
     "execution_count": 83,
     "metadata": {},
     "output_type": "execute_result"
    }
   ],
   "source": [
    "tuple(d6.values())"
   ]
  },
  {
   "cell_type": "code",
   "execution_count": 84,
   "id": "1ca3d9c0-a603-401b-a46b-1fe456b09585",
   "metadata": {},
   "outputs": [
    {
     "data": {
      "text/plain": [
       "[{12, 14, 28},\n",
       " {'web_dev': 8,\n",
       "  'data science master': 8,\n",
       "  'java with dsa and system design': 23},\n",
       " ['sudhanshu', 'krishna', 'anurag'],\n",
       " ['mynewvalue']]"
      ]
     },
     "execution_count": 84,
     "metadata": {},
     "output_type": "execute_result"
    }
   ],
   "source": [
    "list(d6.values())"
   ]
  },
  {
   "cell_type": "code",
   "execution_count": 85,
   "id": "819452ac-e651-4e5b-8f23-ff59db26a53d",
   "metadata": {},
   "outputs": [
    {
     "data": {
      "text/plain": [
       "[('lanch_date', {12, 14, 28}),\n",
       " ('class_time',\n",
       "  {'web_dev': 8,\n",
       "   'data science master': 8,\n",
       "   'java with dsa and system design': 23}),\n",
       " ('mentor', ['sudhanshu', 'krishna', 'anurag']),\n",
       " ('mynewkey', ['mynewvalue'])]"
      ]
     },
     "execution_count": 85,
     "metadata": {},
     "output_type": "execute_result"
    }
   ],
   "source": [
    "list(d6.items())"
   ]
  },
  {
   "cell_type": "code",
   "execution_count": 88,
   "id": "832e4b23-7a48-4616-9276-79b48e1bba68",
   "metadata": {},
   "outputs": [],
   "source": [
    "d6['mynewkey'] = \"mynewvalue\""
   ]
  },
  {
   "cell_type": "code",
   "execution_count": 89,
   "id": "848f077a-3c85-4e34-9cdd-29c69249e197",
   "metadata": {},
   "outputs": [
    {
     "data": {
      "text/plain": [
       "{'lanch_date': {12, 14, 28},\n",
       " 'class_time': {'web_dev': 8,\n",
       "  'data science master': 8,\n",
       "  'java with dsa and system design': 23},\n",
       " 'mentor': ['sudhanshu', 'krishna', 'anurag'],\n",
       " 'mynewkey': 'mynewvalue'}"
      ]
     },
     "execution_count": 89,
     "metadata": {},
     "output_type": "execute_result"
    }
   ],
   "source": [
    "d6"
   ]
  },
  {
   "cell_type": "code",
   "execution_count": 99,
   "id": "db77c4c3-622b-4b53-ac4e-0307abf1cc40",
   "metadata": {},
   "outputs": [],
   "source": [
    "# IF ELSE CONDITION"
   ]
  },
  {
   "cell_type": "code",
   "execution_count": 27,
   "id": "643b6f78-38f7-45bf-ace4-9696cb80d57e",
   "metadata": {},
   "outputs": [
    {
     "name": "stdin",
     "output_type": "stream",
     "text": [
      "enter the number 65\n"
     ]
    },
    {
     "name": "stdout",
     "output_type": "stream",
     "text": [
      "you will be a part of a2 batch\n"
     ]
    }
   ],
   "source": [
    "mark=int(input(\"enter the number\"))\n",
    "\n",
    "mark = 50\n",
    "if mark >= 80:\n",
    "         print(\"you will be a part of a0\")\n",
    "elif mark>= 60 and mark<80:\n",
    "    print(\"you will be a part of a1 batch\")\n",
    "elif mark >= 40 and mark<60:\n",
    "    print(\"you will be a part of a2 batch\")\n",
    "else :\n",
    "    print(\"you will be a part of A3 batch\")\n",
    "    "
   ]
  },
  {
   "cell_type": "code",
   "execution_count": 3,
   "id": "fcd5a167-9a89-4c35-8619-6d29333d09cc",
   "metadata": {},
   "outputs": [
    {
     "data": {
      "text/plain": [
       "False"
      ]
     },
     "execution_count": 3,
     "metadata": {},
     "output_type": "execute_result"
    }
   ],
   "source": [
    "10>=80"
   ]
  },
  {
   "cell_type": "code",
   "execution_count": 16,
   "id": "8e9cf300-510c-4aae-8d98-e1dcf26d9bca",
   "metadata": {},
   "outputs": [
    {
     "name": "stdin",
     "output_type": "stream",
     "text": [
      "enter the number bikram\n"
     ]
    }
   ],
   "source": [
    "marks=input(\"enter the number\")"
   ]
  },
  {
   "cell_type": "code",
   "execution_count": 10,
   "id": "8f5dd36f-4f75-47fd-a44b-65edfdb367d1",
   "metadata": {},
   "outputs": [
    {
     "data": {
      "text/plain": [
       "'bikram'"
      ]
     },
     "execution_count": 10,
     "metadata": {},
     "output_type": "execute_result"
    }
   ],
   "source": [
    "marks"
   ]
  },
  {
   "cell_type": "code",
   "execution_count": 11,
   "id": "689a472a-9ce1-43ed-b3ed-d4763ffaf840",
   "metadata": {},
   "outputs": [
    {
     "data": {
      "text/plain": [
       "str"
      ]
     },
     "execution_count": 11,
     "metadata": {},
     "output_type": "execute_result"
    }
   ],
   "source": [
    "type(marks)"
   ]
  },
  {
   "cell_type": "code",
   "execution_count": null,
   "id": "9bf078d1-698f-48f4-b568-8824b03295dd",
   "metadata": {},
   "outputs": [],
   "source": [
    "#so we have to define datatype at starting output\n"
   ]
  },
  {
   "cell_type": "code",
   "execution_count": 21,
   "id": "870418c3-788c-4c1d-a838-0aea1520e236",
   "metadata": {},
   "outputs": [
    {
     "name": "stdin",
     "output_type": "stream",
     "text": [
      "enter the number 45\n"
     ]
    }
   ],
   "source": [
    "a=int(input(\"enter the number\"))\n"
   ]
  },
  {
   "cell_type": "code",
   "execution_count": 22,
   "id": "b51c358b-5265-45d3-9d52-e1b45dd0a83c",
   "metadata": {},
   "outputs": [
    {
     "data": {
      "text/plain": [
       "int"
      ]
     },
     "execution_count": 22,
     "metadata": {},
     "output_type": "execute_result"
    }
   ],
   "source": [
    "type(a)"
   ]
  },
  {
   "cell_type": "code",
   "execution_count": 23,
   "id": "95603904-aef8-4176-bc58-38753ae08169",
   "metadata": {},
   "outputs": [
    {
     "name": "stdin",
     "output_type": "stream",
     "text": [
      "enter the number 40\n"
     ]
    }
   ],
   "source": [
    "b=float(input(\"enter the number\"))"
   ]
  },
  {
   "cell_type": "code",
   "execution_count": 24,
   "id": "fa23ce42-410a-494c-9101-55ac7d45beb1",
   "metadata": {},
   "outputs": [
    {
     "data": {
      "text/plain": [
       "40.0"
      ]
     },
     "execution_count": 24,
     "metadata": {},
     "output_type": "execute_result"
    }
   ],
   "source": [
    "b"
   ]
  },
  {
   "cell_type": "code",
   "execution_count": 25,
   "id": "b93ee97c-2f13-4432-a6e1-23acb7cf1dd5",
   "metadata": {},
   "outputs": [
    {
     "data": {
      "text/plain": [
       "float"
      ]
     },
     "execution_count": 25,
     "metadata": {},
     "output_type": "execute_result"
    }
   ],
   "source": [
    "type(b)"
   ]
  },
  {
   "cell_type": "code",
   "execution_count": 78,
   "id": "c54b75d4-3b32-41e6-adbb-bbf6d4e20419",
   "metadata": {},
   "outputs": [
    {
     "name": "stdin",
     "output_type": "stream",
     "text": [
      "enter price 888\n"
     ]
    },
    {
     "name": "stdout",
     "output_type": "stream",
     "text": [
      "i will purchase\n"
     ]
    }
   ],
   "source": [
    "price=int(input(\"enter price\"))\n",
    "if price> 1000:\n",
    "                print(\"i will not purchase\")\n",
    "else : \n",
    "            \n",
    "    print(\"i will purchase\")"
   ]
  },
  {
   "cell_type": "code",
   "execution_count": 81,
   "id": "5506c120-fa8e-4ed2-acf3-96187ef5460c",
   "metadata": {},
   "outputs": [
    {
     "name": "stdin",
     "output_type": "stream",
     "text": [
      "enter price 500\n"
     ]
    }
   ],
   "source": [
    "price=int(input(\"enter price\"))\n",
    "if price> 1000:\n",
    "        print(\"i will not purchase\")\n",
    "          "
   ]
  },
  {
   "cell_type": "code",
   "execution_count": 53,
   "id": "e33d5d95-19a4-4742-a709-7a3763794afb",
   "metadata": {},
   "outputs": [
    {
     "name": "stdin",
     "output_type": "stream",
     "text": [
      "enter price 100\n"
     ]
    }
   ],
   "source": [
    "price=int(input(\"enter price\"))\n",
    "if  price> 1000:\n",
    "    print(\"i will not purchase\")"
   ]
  },
  {
   "cell_type": "code",
   "execution_count": 135,
   "id": "19bcedf5-5f42-4063-837d-cf77c3494167",
   "metadata": {},
   "outputs": [
    {
     "ename": "IndentationError",
     "evalue": "unindent does not match any outer indentation level (<tokenize>, line 8)",
     "output_type": "error",
     "traceback": [
      "\u001b[0;36m  File \u001b[0;32m<tokenize>:8\u001b[0;36m\u001b[0m\n\u001b[0;31m    elif   price <1000:\u001b[0m\n\u001b[0m    ^\u001b[0m\n\u001b[0;31mIndentationError\u001b[0m\u001b[0;31m:\u001b[0m unindent does not match any outer indentation level\n"
     ]
    }
   ],
   "source": [
    "price=int(input(\"enter the number\"))\n",
    "if price >1000:\n",
    "    print(\"i will n\n",
    "   \n",
    "             "
   ]
  },
  {
   "cell_type": "code",
   "execution_count": 116,
   "id": "a4fa1b62-ca8e-48e8-a4ce-ef11e5f24cf7",
   "metadata": {},
   "outputs": [
    {
     "ename": "IndentationError",
     "evalue": "unindent does not match any outer indentation level (<tokenize>, line 3)",
     "output_type": "error",
     "traceback": [
      "\u001b[0;36m  File \u001b[0;32m<tokenize>:3\u001b[0;36m\u001b[0m\n\u001b[0;31m    print(\"i will not purchess\")\u001b[0m\n\u001b[0m    ^\u001b[0m\n\u001b[0;31mIndentationError\u001b[0m\u001b[0;31m:\u001b[0m unindent does not match any outer indentation level\n"
     ]
    }
   ],
   "source": []
  },
  {
   "cell_type": "code",
   "execution_count": 141,
   "id": "b1e45350-80bc-491a-b8ae-733e06738c96",
   "metadata": {},
   "outputs": [
    {
     "name": "stdin",
     "output_type": "stream",
     "text": [
      "enter the price 0\n"
     ]
    },
    {
     "name": "stdout",
     "output_type": "stream",
     "text": [
      " i will purchess\n"
     ]
    }
   ],
   "source": [
    "price=int(input(\"enter the price\"))\n",
    "if price >1000:\n",
    "    print(\"i will not purchess\")\n",
    "    if price >5000:\n",
    "        print(\"this is too much\")\n",
    "    elif price <2000:\n",
    "        print(\"it okk\")\n",
    "elif price <1000:\n",
    "    print(\" i will purchess\")\n",
    "else :\n",
    "     print(\"not intrested\")\n",
    "    \n",
    "              "
   ]
  },
  {
   "cell_type": "code",
   "execution_count": 142,
   "id": "bd343c21-0158-42f4-881c-88a73d4b1724",
   "metadata": {},
   "outputs": [],
   "source": [
    "l=[1,2,3,4,5,6,7,8,9,0]"
   ]
  },
  {
   "cell_type": "code",
   "execution_count": 144,
   "id": "ed29309b-e300-4f49-8efb-7dd6e612b098",
   "metadata": {},
   "outputs": [
    {
     "data": {
      "text/plain": [
       "6"
      ]
     },
     "execution_count": 144,
     "metadata": {},
     "output_type": "execute_result"
    }
   ],
   "source": [
    "l[0]+5"
   ]
  },
  {
   "cell_type": "code",
   "execution_count": null,
   "id": "0aa4403b-c19a-44b1-b385-098d8bd7efe6",
   "metadata": {},
   "outputs": [],
   "source": [
    "#for loop"
   ]
  },
  {
   "cell_type": "code",
   "execution_count": 147,
   "id": "27a50350-6253-4873-9ebc-aa97791483ae",
   "metadata": {},
   "outputs": [
    {
     "name": "stdout",
     "output_type": "stream",
     "text": [
      "[1, 2, 3, 4, 5, 6, 7, 8, 9, 0]\n",
      "[1, 2, 3, 4, 5, 6, 7, 8, 9, 0]\n",
      "[1, 2, 3, 4, 5, 6, 7, 8, 9, 0]\n",
      "[1, 2, 3, 4, 5, 6, 7, 8, 9, 0]\n",
      "[1, 2, 3, 4, 5, 6, 7, 8, 9, 0]\n",
      "[1, 2, 3, 4, 5, 6, 7, 8, 9, 0]\n",
      "[1, 2, 3, 4, 5, 6, 7, 8, 9, 0]\n",
      "[1, 2, 3, 4, 5, 6, 7, 8, 9, 0]\n",
      "[1, 2, 3, 4, 5, 6, 7, 8, 9, 0]\n",
      "[1, 2, 3, 4, 5, 6, 7, 8, 9, 0]\n"
     ]
    }
   ],
   "source": [
    "for i in l:\n",
    "    print(l)"
   ]
  },
  {
   "cell_type": "code",
   "execution_count": 149,
   "id": "a26235d0-7419-42a1-bbf8-55c47145fd25",
   "metadata": {},
   "outputs": [
    {
     "name": "stdout",
     "output_type": "stream",
     "text": [
      "2\n",
      "3\n",
      "4\n",
      "5\n",
      "6\n",
      "7\n",
      "8\n",
      "9\n",
      "10\n",
      "1\n"
     ]
    }
   ],
   "source": [
    "for i in l:\n",
    "    print(i+)"
   ]
  },
  {
   "cell_type": "code",
   "execution_count": 152,
   "id": "8ed47172-f3c4-4681-adfb-2daf430ff78f",
   "metadata": {},
   "outputs": [
    {
     "name": "stdout",
     "output_type": "stream",
     "text": [
      "2\n",
      "3\n",
      "4\n",
      "5\n",
      "6\n",
      "7\n",
      "8\n",
      "9\n",
      "10\n",
      "1\n"
     ]
    },
    {
     "data": {
      "text/plain": [
       "[1, 2, 3, 4, 5, 6, 7, 8, 9, 0]"
      ]
     },
     "execution_count": 152,
     "metadata": {},
     "output_type": "execute_result"
    }
   ],
   "source": [
    "l1=[]\n",
    "for i in l:\n",
    "    print(i+1)\n",
    "    l1.append(i)\n",
    "l1"
   ]
  },
  {
   "cell_type": "code",
   "execution_count": 186,
   "id": "1eab81fc-c627-41ec-9c3e-cee6cb43e790",
   "metadata": {},
   "outputs": [],
   "source": [
    "l=[\"sudh\",\"kumar\",\"pwskill\",\"course\"]\n",
    "\n"
   ]
  },
  {
   "cell_type": "code",
   "execution_count": 190,
   "id": "47f35cdf-773e-4999-870d-c272e9f3a635",
   "metadata": {},
   "outputs": [
    {
     "ename": "AttributeError",
     "evalue": "'list' object has no attribute 'upper'",
     "output_type": "error",
     "traceback": [
      "\u001b[0;31m---------------------------------------------------------------------------\u001b[0m",
      "\u001b[0;31mAttributeError\u001b[0m                            Traceback (most recent call last)",
      "Cell \u001b[0;32mIn[190], line 1\u001b[0m\n\u001b[0;32m----> 1\u001b[0m \u001b[43ml\u001b[49m\u001b[38;5;241;43m.\u001b[39;49m\u001b[43mupper\u001b[49m()\n",
      "\u001b[0;31mAttributeError\u001b[0m: 'list' object has no attribute 'upper'"
     ]
    }
   ],
   "source": [
    "l.upper()\n",
    "\n"
   ]
  },
  {
   "cell_type": "code",
   "execution_count": 191,
   "id": "3819f13c-332a-4867-aa82-899ba69fa674",
   "metadata": {},
   "outputs": [
    {
     "name": "stdout",
     "output_type": "stream",
     "text": [
      "SUDH\n",
      "KUMAR\n",
      "PWSKILL\n",
      "COURSE\n"
     ]
    },
    {
     "data": {
      "text/plain": [
       "['SUDH', 'KUMAR', 'PWSKILL', 'COURSE']"
      ]
     },
     "execution_count": 191,
     "metadata": {},
     "output_type": "execute_result"
    }
   ],
   "source": [
    "i1=[]\n",
    "l=[\"sudh\",\"kumar\",\"pwskill\",\"course\"]\n",
    "for i in l:\n",
    "   print(i.upper())\n",
    "   i1.append(i.upper())\n",
    "i1"
   ]
  },
  {
   "cell_type": "code",
   "execution_count": 180,
   "id": "88796a37-3790-4fe2-85f1-d3c154c2dc27",
   "metadata": {},
   "outputs": [
    {
     "data": {
      "text/plain": [
       "['SUDH', 'KUMAR', 'PWSKILL', 'COURSE']"
      ]
     },
     "execution_count": 180,
     "metadata": {},
     "output_type": "execute_result"
    }
   ],
   "source": [
    "i1"
   ]
  },
  {
   "cell_type": "code",
   "execution_count": null,
   "id": "95f87bb9-ebb5-453f-9dc7-952502eb57b2",
   "metadata": {},
   "outputs": [],
   "source": []
  },
  {
   "cell_type": "code",
   "execution_count": null,
   "id": "bec84a87-e82b-4807-9b02-c0e5ef578cf6",
   "metadata": {},
   "outputs": [],
   "source": []
  },
  {
   "cell_type": "code",
   "execution_count": 197,
   "id": "fa94cf93-26e7-47b2-bd08-f13e753736b5",
   "metadata": {},
   "outputs": [],
   "source": [
    "l=[1,2,3,4,5,6,\"bik\",\"kum\",434,43884.90,\"abc\"]"
   ]
  },
  {
   "cell_type": "code",
   "execution_count": 198,
   "id": "430f9fb0-262f-417b-b516-470b9e6164a6",
   "metadata": {},
   "outputs": [
    {
     "name": "stdout",
     "output_type": "stream",
     "text": [
      "1\n",
      "2\n",
      "3\n",
      "4\n",
      "5\n",
      "6\n",
      "bik\n",
      "kum\n",
      "434\n",
      "43884.9\n",
      "abc\n"
     ]
    }
   ],
   "source": [
    "for i in l:\n",
    "  print(i)"
   ]
  },
  {
   "cell_type": "code",
   "execution_count": 201,
   "id": "84310a9b-3337-46a7-ab28-7b93774863d5",
   "metadata": {},
   "outputs": [],
   "source": [
    "l1_num=[]\n",
    "l2_str=[]\n",
    "for i in l:\n",
    "    if type (i)== int or type(i)== float:\n",
    "        l1_num.append(i)\n",
    "    else :\n",
    "            l2_str.append(i)\n",
    "    \n"
   ]
  },
  {
   "cell_type": "code",
   "execution_count": 202,
   "id": "6c2bce3a-3459-40d2-bbd3-0a45396a1c06",
   "metadata": {},
   "outputs": [
    {
     "data": {
      "text/plain": [
       "[1, 2, 3, 4, 5, 6, 434, 43884.9]"
      ]
     },
     "execution_count": 202,
     "metadata": {},
     "output_type": "execute_result"
    }
   ],
   "source": [
    "l1_num"
   ]
  },
  {
   "cell_type": "code",
   "execution_count": 203,
   "id": "029a4753-8e92-4da0-a017-985f58f01387",
   "metadata": {},
   "outputs": [
    {
     "ename": "NameError",
     "evalue": "name 'l2_num' is not defined",
     "output_type": "error",
     "traceback": [
      "\u001b[0;31m---------------------------------------------------------------------------\u001b[0m",
      "\u001b[0;31mNameError\u001b[0m                                 Traceback (most recent call last)",
      "Cell \u001b[0;32mIn[203], line 1\u001b[0m\n\u001b[0;32m----> 1\u001b[0m \u001b[43ml2_num\u001b[49m\n",
      "\u001b[0;31mNameError\u001b[0m: name 'l2_num' is not defined"
     ]
    }
   ],
   "source": [
    "l2_num"
   ]
  },
  {
   "cell_type": "code",
   "execution_count": 204,
   "id": "d68a35c3-c5e6-475d-a6ec-dc9c2cdaeb3f",
   "metadata": {},
   "outputs": [
    {
     "data": {
      "text/plain": [
       "['bik', 'kum', 'abc']"
      ]
     },
     "execution_count": 204,
     "metadata": {},
     "output_type": "execute_result"
    }
   ],
   "source": [
    "l2_str"
   ]
  },
  {
   "cell_type": "code",
   "execution_count": null,
   "id": "31f0caa0-ad77-4de3-aa94-b2a3ad2f1480",
   "metadata": {},
   "outputs": [],
   "source": []
  }
 ],
 "metadata": {
  "kernelspec": {
   "display_name": "Python 3 (ipykernel)",
   "language": "python",
   "name": "python3"
  },
  "language_info": {
   "codemirror_mode": {
    "name": "ipython",
    "version": 3
   },
   "file_extension": ".py",
   "mimetype": "text/x-python",
   "name": "python",
   "nbconvert_exporter": "python",
   "pygments_lexer": "ipython3",
   "version": "3.10.8"
  }
 },
 "nbformat": 4,
 "nbformat_minor": 5
}
