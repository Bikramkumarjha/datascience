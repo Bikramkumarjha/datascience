{
 "cells": [
  {
   "cell_type": "code",
   "execution_count": null,
   "id": "489f939e-af0c-4561-82f1-94084c4a8710",
   "metadata": {},
   "outputs": [],
   "source": [
    "#Q1. Explain with an example each when to use a for loop and a while loop."
   ]
  },
  {
   "cell_type": "code",
   "execution_count": 3,
   "id": "35b37793-0809-4bab-ba31-ab7b73f80911",
   "metadata": {},
   "outputs": [
    {
     "name": "stdout",
     "output_type": "stream",
     "text": [
      "1\n",
      "2\n",
      "3\n",
      "-4\n",
      "5\n",
      "-6\n",
      "7\n",
      "8\n"
     ]
    }
   ],
   "source": [
    "# for loop we traverse all the element we know the final point \n",
    "l=[1,2,3,-4,5,-6,7,8]\n",
    "for i in l:\n",
    "    print(i)"
   ]
  },
  {
   "cell_type": "code",
   "execution_count": 8,
   "id": "4031b4af-d18b-41d0-8f04-39cc26c5f2bd",
   "metadata": {},
   "outputs": [
    {
     "data": {
      "text/plain": [
       "[1, 2, 3, -4, 5, -6, 7, 8]"
      ]
     },
     "execution_count": 8,
     "metadata": {},
     "output_type": "execute_result"
    }
   ],
   "source": [
    "l"
   ]
  },
  {
   "cell_type": "code",
   "execution_count": 18,
   "id": "3ce414ce-c67b-4a16-b033-3d07c4d53538",
   "metadata": {},
   "outputs": [
    {
     "name": "stdout",
     "output_type": "stream",
     "text": [
      "1\n",
      "2\n",
      "3\n",
      "5\n",
      "7\n",
      "8\n"
     ]
    },
    {
     "ename": "IndexError",
     "evalue": "list index out of range",
     "output_type": "error",
     "traceback": [
      "\u001b[0;31m---------------------------------------------------------------------------\u001b[0m",
      "\u001b[0;31mIndexError\u001b[0m                                Traceback (most recent call last)",
      "Cell \u001b[0;32mIn[18], line 4\u001b[0m\n\u001b[1;32m      2\u001b[0m i\u001b[38;5;241m=\u001b[39m\u001b[38;5;241m0\u001b[39m\n\u001b[1;32m      3\u001b[0m \u001b[38;5;28;01mwhile\u001b[39;00m(\u001b[38;5;28;01mTrue\u001b[39;00m):\n\u001b[0;32m----> 4\u001b[0m     \u001b[38;5;28;01mif\u001b[39;00m(\u001b[43ml\u001b[49m\u001b[43m[\u001b[49m\u001b[43mi\u001b[49m\u001b[43m]\u001b[49m\u001b[38;5;241m>\u001b[39m\u001b[38;5;241m0\u001b[39m):\n\u001b[1;32m      5\u001b[0m         \u001b[38;5;28mprint\u001b[39m(l[i])\n\u001b[1;32m     10\u001b[0m     i\u001b[38;5;241m=\u001b[39mi\u001b[38;5;241m+\u001b[39m\u001b[38;5;241m1\u001b[39m\n",
      "\u001b[0;31mIndexError\u001b[0m: list index out of range"
     ]
    }
   ],
   "source": [
    "#in while loop we don't know end of loop\n",
    "i=0\n",
    "while(True):\n",
    "    if(l[i]>0):\n",
    "        print(l[i])\n",
    "   \n",
    "        \n",
    "    \n",
    "    \n",
    "    i=i+1"
   ]
  },
  {
   "cell_type": "code",
   "execution_count": null,
   "id": "b880319e-ca75-46f5-bbea-4a051999860f",
   "metadata": {},
   "outputs": [],
   "source": [
    "@2 Q2. Write a python program to print the sum and product of the first 10 natural numbers using for\n",
    "and while loop."
   ]
  },
  {
   "cell_type": "code",
   "execution_count": 20,
   "id": "2f12aa68-4de8-4cde-9ffa-f6e559295333",
   "metadata": {},
   "outputs": [
    {
     "name": "stdout",
     "output_type": "stream",
     "text": [
      "55\n"
     ]
    }
   ],
   "source": [
    "@for using while loop\n",
    "sum=0\n",
    "natural=1\n",
    "while(natural<=10):\n",
    "    sum=sum+natural\n",
    "    natural=natural+1\n",
    "    \n",
    "print(sum)   \n"
   ]
  },
  {
   "cell_type": "code",
   "execution_count": 39,
   "id": "74d28cf5-ec93-40b1-8f59-6fb513296921",
   "metadata": {},
   "outputs": [
    {
     "name": "stdout",
     "output_type": "stream",
     "text": [
      "55\n"
     ]
    }
   ],
   "source": [
    "#for using for loop \n",
    "sum=0\n",
    "\n",
    "for i in range(1,11):\n",
    "    sum=sum+i\n",
    "print(sum)    \n",
    "     \n",
    "   "
   ]
  },
  {
   "cell_type": "code",
   "execution_count": 26,
   "id": "afe412ec-20f2-4af7-89b2-09de906c35ed",
   "metadata": {},
   "outputs": [
    {
     "data": {
      "text/plain": [
       "range(0, 10)"
      ]
     },
     "execution_count": 26,
     "metadata": {},
     "output_type": "execute_result"
    }
   ],
   "source": [
    "range(10)"
   ]
  },
  {
   "cell_type": "code",
   "execution_count": 42,
   "id": "6f1c5b03-f4f8-4f43-b831-3cfc71fec16b",
   "metadata": {},
   "outputs": [
    {
     "name": "stdout",
     "output_type": "stream",
     "text": [
      "55\n"
     ]
    }
   ],
   "source": [
    "#second method \n",
    "sum=0\n",
    "l=[1,2,3,4,5,6,7,8,9,10]\n",
    "for i in l:\n",
    "    sum=sum+i\n",
    "print(sum)\n",
    "    "
   ]
  },
  {
   "cell_type": "code",
   "execution_count": 48,
   "id": "129319cc-03ea-495b-87da-794371aa1b62",
   "metadata": {},
   "outputs": [
    {
     "name": "stdout",
     "output_type": "stream",
     "text": [
      "the sum is  55\n"
     ]
    }
   ],
   "source": [
    "\n",
    "#by using  list \n",
    "sum=0\n",
    "i1=(1,2,3,4,5,6,7,8,9,10)\n",
    "for i in i1:\n",
    "    sum=sum+i\n",
    "print(\"the sum is \",sum)\n",
    "    "
   ]
  },
  {
   "cell_type": "code",
   "execution_count": null,
   "id": "e07c3278-7986-4a99-9d88-6e01502c445b",
   "metadata": {},
   "outputs": [],
   "source": [
    "Q3. Create a python program to compute the electricity bill for a household.\n",
    "\n",
    "Q4. Create a list of numbers from 1 to 100. Use for loop and while loop to calculate the cube of each\n",
    "number and if the cube of that number is divisible by 4 or 5 then append that number in a list and print\n",
    "that list.\n",
    "The per-unit charges in rupees are as follows: For the first 100 units, the user will be charged Rs. 4.5 per\n",
    "unit, for the next 100 units, the user will be charged Rs. 6 per unit, and for the next 100 units, the user will\n",
    "be charged Rs. 10 per unit, After 300 units and above the user will be charged Rs. 20 per unit."
   ]
  },
  {
   "cell_type": "code",
   "execution_count": 65,
   "id": "8854e5fc-a976-4b02-944b-eb722faa5250",
   "metadata": {},
   "outputs": [
    {
     "name": "stdin",
     "output_type": "stream",
     "text": [
      "enter the unit  301\n"
     ]
    },
    {
     "name": "stdout",
     "output_type": "stream",
     "text": [
      "your bill for  301 of intrest of 20% is  6020\n"
     ]
    }
   ],
   "source": [
    "#3 electricity bil\n",
    "electricitybill=int(input(\"enter the unit \"))\n",
    "if(electricitybill<=100):\n",
    "    print(\"your bill for \",electricitybill,\" of interst of 4.5% is \",electricitybill*4.5)\n",
    "elif(electricitybill>100 and electricitybill<=200):\n",
    "    print(\"your bill for \",electricitybill,\"of intrest of 6% is\",electricitybill*6) \n",
    "elif(electricitybill>200 and electricitybill<=300):\n",
    "    print(\"your bill for \",electricitybill,\"of intrest of 10%is \",electricitybill*10)\n",
    "elif(electricitybill>300):\n",
    "    print(\"your bill for \",electricitybill,\"of intrest of 20% is \",electricitybill*20)\n",
    "else:\n",
    "    print(\"your bill is invalid \")\n",
    "    \n",
    "    \n"
   ]
  },
  {
   "cell_type": "code",
   "execution_count": 72,
   "id": "224a96ce-2e85-41d2-9279-1cc42c7b0e30",
   "metadata": {},
   "outputs": [
    {
     "ename": "IndentationError",
     "evalue": "unexpected indent (2301204871.py, line 8)",
     "output_type": "error",
     "traceback": [
      "\u001b[0;36m  Cell \u001b[0;32mIn[72], line 8\u001b[0;36m\u001b[0m\n\u001b[0;31m    a=a-100\u001b[0m\n\u001b[0m    ^\u001b[0m\n\u001b[0;31mIndentationError\u001b[0m\u001b[0;31m:\u001b[0m unexpected indent\n"
     ]
    }
   ],
   "source": [
    "#3 electricity bil\n",
    "amount=0\n",
    "bill=int(input(\"enter the unit \"))\n",
    "if(a<=100):\n",
    "    print(\"your first bill for \",a,\" of interst of 4.5% is \",100*4.5)\n",
    "elif(True):\n",
    "    print(\"your second  bill for \",a,\"of intrest of 6% is\",100*6)\n",
    "    \n",
    "elif(True):\n",
    "    print(\"your third  bill for \",a,\"of intrest of 10%is \",100*10)\n",
    "elif(True):\n",
    "    print(\"your last bill for \",a,\"of intrest of 20% is \",100*20)\n",
    "\n",
    "    \n",
    "else:\n",
    "    print(\"your bill is invalid \")\n",
    "    \n",
    "print(\"your bill id \",a)\n",
    "    \n",
    "    \n"
   ]
  },
  {
   "cell_type": "code",
   "execution_count": null,
   "id": "1e5be5b2-3d84-4bc9-93a3-44c186389d28",
   "metadata": {},
   "outputs": [],
   "source": [
    "\n",
    "\n",
    "Q4. Create a list of numbers from 1 to 100. Use for loop and while loop to calculate the cube of each\n",
    "number and if the cube of that number is divisible by 4 or 5 then append that number in a list and print\n",
    "that list.\n"
   ]
  },
  {
   "cell_type": "code",
   "execution_count": 5,
   "id": "12b1d193-6887-4bdd-a83a-2b5f27a5c06f",
   "metadata": {},
   "outputs": [
    {
     "name": "stdout",
     "output_type": "stream",
     "text": [
      "[2, 4, 5, 6, 8, 10, 12, 14, 15, 16, 18, 20, 22, 24, 25, 26, 28, 30, 32, 34, 35, 36, 38, 40, 42, 44, 45, 46, 48, 50, 52, 54, 55, 56, 58, 60, 62, 64, 65, 66, 68, 70, 72, 74, 75, 76, 78, 80, 82, 84, 85, 86, 88, 90, 92, 94, 95, 96, 98, 100]\n"
     ]
    }
   ],
   "source": [
    "#create a list of 1 to 100 divisible by both 4 or 5\n",
    "l1=[]\n",
    "l=list(range(1,101))\n",
    "for i in l:\n",
    "    if((i**3)%4==0 or (i**3)%5==0):\n",
    "        l1.append(i)\n",
    "print(l1)\n",
    "        \n",
    "    "
   ]
  },
  {
   "cell_type": "code",
   "execution_count": 7,
   "id": "d0c1406f-d8af-4d10-9f38-8fabe159f569",
   "metadata": {},
   "outputs": [],
   "source": [
    "#5Write a program to filter count vowels in the below-given string.\n",
    "#string = \"I want to become a data scientist\""
   ]
  },
  {
   "cell_type": "code",
   "execution_count": 10,
   "id": "0e0114a5-78f7-4288-9848-b48aeaf7d0d1",
   "metadata": {},
   "outputs": [],
   "source": [
    "string=\"i want to become a data scientist\""
   ]
  },
  {
   "cell_type": "code",
   "execution_count": 28,
   "id": "a44ee57d-6d59-4589-99c1-c80164d548c4",
   "metadata": {},
   "outputs": [
    {
     "name": "stdin",
     "output_type": "stream",
     "text": [
      "enter the number b i k r a m\n"
     ]
    },
    {
     "name": "stdout",
     "output_type": "stream",
     "text": [
      "total count is  2\n"
     ]
    }
   ],
   "source": [
    "a =input(\"enter the number\")\n",
    "a=a.lower()\n",
    "count=0\n",
    "for i in a:\n",
    "    if(i==\"a\" or i==\"e\"or i==\"i\"or i==\"o\"or i==\"u\"):\n",
    "        count=count+1\n",
    "print(\"total count is \",count)\n",
    "\n",
    "\n",
    "\n",
    "    \n",
    "    \n",
    "    \n",
    "\n",
    "        "
   ]
  },
  {
   "cell_type": "code",
   "execution_count": 37,
   "id": "c09c9f9f-8df0-413b-9a3a-34775b301fbc",
   "metadata": {},
   "outputs": [
    {
     "name": "stdout",
     "output_type": "stream",
     "text": [
      "total count is  12\n"
     ]
    }
   ],
   "source": [
    "\n",
    "string=\"i want to become a data scientist\"\n",
    "count=0\n",
    "for i in string:\n",
    "    if(i==\"a\"or i==\"e\"or i==\"i\"or i==\"o\"or i==\"u\"):\n",
    "        count=count+1\n",
    "print(\"total count is \",count)\n",
    "\n",
    "\n",
    "\n",
    "    \n",
    "    \n",
    "    \n",
    "\n",
    "        "
   ]
  },
  {
   "cell_type": "code",
   "execution_count": 36,
   "id": "699d9fd0-cc55-42a8-b9ea-e9607e801a83",
   "metadata": {},
   "outputs": [
    {
     "name": "stdout",
     "output_type": "stream",
     "text": [
      "total count is  12\n"
     ]
    }
   ],
   "source": [
    "\n",
    "string=\"i want to become a data scientist\"\n",
    "count=0\n",
    "for i in string:\n",
    "    if(i=='a'or i=='e'or i=='i'or i=='o'or i=='u'):\n",
    "        count=count+1\n",
    "print(\"total count is \",count)\n",
    "\n",
    "\n",
    "\n",
    "    \n",
    "    \n",
    "    \n",
    "\n",
    "        "
   ]
  },
  {
   "cell_type": "code",
   "execution_count": 36,
   "id": "b51b8700-03b2-4bec-a129-ed1d20934640",
   "metadata": {},
   "outputs": [
    {
     "name": "stdout",
     "output_type": "stream",
     "text": [
      "total count is  12\n"
     ]
    }
   ],
   "source": [
    "\n",
    "string=\"i want to become a data scientist\"\n",
    "count=0\n",
    "for i in string:\n",
    "    if(i==\"a\",\"e\",\"i\",\"o\"):\n",
    "        count=count+1\n",
    "print(\"total count is \",count)\n",
    "\n",
    "\n",
    "\n",
    "    \n",
    "    \n",
    "    \n",
    "\n",
    "        "
   ]
  },
  {
   "cell_type": "code",
   "execution_count": null,
   "id": "79e548c8-5bb5-4fd2-b613-c3ec8c8b035c",
   "metadata": {},
   "outputs": [],
   "source": []
  },
  {
   "cell_type": "code",
   "execution_count": null,
   "id": "259a4f0c-f1cf-4f75-b98d-3fcabc36c5cb",
   "metadata": {},
   "outputs": [],
   "source": []
  }
 ],
 "metadata": {
  "kernelspec": {
   "display_name": "Python 3 (ipykernel)",
   "language": "python",
   "name": "python3"
  },
  "language_info": {
   "codemirror_mode": {
    "name": "ipython",
    "version": 3
   },
   "file_extension": ".py",
   "mimetype": "text/x-python",
   "name": "python",
   "nbconvert_exporter": "python",
   "pygments_lexer": "ipython3",
   "version": "3.10.8"
  }
 },
 "nbformat": 4,
 "nbformat_minor": 5
}
