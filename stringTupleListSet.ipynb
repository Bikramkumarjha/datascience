{
 "cells": [
  {
   "cell_type": "code",
   "execution_count": 3,
   "id": "6636f485-eecd-4f23-b0e9-203cc7448b2c",
   "metadata": {},
   "outputs": [
    {
     "data": {
      "text/plain": [
       "4"
      ]
     },
     "execution_count": 3,
     "metadata": {},
     "output_type": "execute_result"
    }
   ],
   "source": [
    "1+3\n",
    "\n",
    "no need to inisilized they atomatic analysised"
   ]
  },
  {
   "cell_type": "code",
   "execution_count": 4,
   "id": "276b9057-1e7d-41fe-9ff1-a49f577cab38",
   "metadata": {},
   "outputs": [
    {
     "data": {
      "text/plain": [
       "25"
      ]
     },
     "execution_count": 4,
     "metadata": {},
     "output_type": "execute_result"
    }
   ],
   "source": [
    "\n",
    "5*5"
   ]
  },
  {
   "cell_type": "code",
   "execution_count": 2,
   "id": "c3721d63-7fc8-4b13-9491-bc31cd5f4408",
   "metadata": {},
   "outputs": [],
   "source": [
    "a=10+5"
   ]
  },
  {
   "cell_type": "code",
   "execution_count": 3,
   "id": "af848d88-ac95-4375-b8db-7f8db987235c",
   "metadata": {},
   "outputs": [
    {
     "data": {
      "text/plain": [
       "15"
      ]
     },
     "execution_count": 3,
     "metadata": {},
     "output_type": "execute_result"
    }
   ],
   "source": [
    "a"
   ]
  },
  {
   "cell_type": "code",
   "execution_count": 7,
   "id": "ec6e24c0-ecaf-499e-aaa8-02293a51d1fe",
   "metadata": {},
   "outputs": [
    {
     "data": {
      "text/plain": [
       "int"
      ]
     },
     "execution_count": 7,
     "metadata": {},
     "output_type": "execute_result"
    }
   ],
   "source": [
    "type(a)"
   ]
  },
  {
   "cell_type": "code",
   "execution_count": 9,
   "id": "ca08795a-5893-470b-bed8-e70069724adf",
   "metadata": {},
   "outputs": [
    {
     "data": {
      "text/plain": [
       "int"
      ]
     },
     "execution_count": 9,
     "metadata": {},
     "output_type": "execute_result"
    }
   ],
   "source": [
    "type (a)"
   ]
  },
  {
   "cell_type": "code",
   "execution_count": 10,
   "id": "01b0dbde-55b2-4e7a-b771-fbf219d8ce6b",
   "metadata": {},
   "outputs": [
    {
     "data": {
      "text/plain": [
       "15"
      ]
     },
     "execution_count": 10,
     "metadata": {},
     "output_type": "execute_result"
    }
   ],
   "source": [
    "a+5"
   ]
  },
  {
   "cell_type": "code",
   "execution_count": 4,
   "id": "67a31c8b-270f-4a8a-99e0-01c191d3508f",
   "metadata": {},
   "outputs": [],
   "source": [
    "b=3\n"
   ]
  },
  {
   "cell_type": "code",
   "execution_count": 5,
   "id": "e357267b-a21e-4171-9613-f12406c13f77",
   "metadata": {},
   "outputs": [
    {
     "data": {
      "text/plain": [
       "int"
      ]
     },
     "execution_count": 5,
     "metadata": {},
     "output_type": "execute_result"
    }
   ],
   "source": [
    "type(b)"
   ]
  },
  {
   "cell_type": "code",
   "execution_count": 1,
   "id": "129c9420-ca2d-4a4f-a1b0-da5116e063aa",
   "metadata": {},
   "outputs": [],
   "source": [
    "c=34"
   ]
  },
  {
   "cell_type": "code",
   "execution_count": 14,
   "id": "1d60c450-6919-4766-b4b2-cb28f427e395",
   "metadata": {},
   "outputs": [
    {
     "data": {
      "text/plain": [
       "float"
      ]
     },
     "execution_count": 14,
     "metadata": {},
     "output_type": "execute_result"
    }
   ],
   "source": [
    "type(c)"
   ]
  },
  {
   "cell_type": "code",
   "execution_count": 15,
   "id": "f5685754-ca3f-468b-940d-17638465ae19",
   "metadata": {},
   "outputs": [],
   "source": [
    "d=\"bikram\""
   ]
  },
  {
   "cell_type": "code",
   "execution_count": 16,
   "id": "2d2bac62-078a-4936-a2db-a34d0c72499f",
   "metadata": {},
   "outputs": [
    {
     "data": {
      "text/plain": [
       "str"
      ]
     },
     "execution_count": 16,
     "metadata": {},
     "output_type": "execute_result"
    }
   ],
   "source": [
    "type(d)"
   ]
  },
  {
   "cell_type": "code",
   "execution_count": 18,
   "id": "43108517-2a6b-470d-8921-16c0f01ba84f",
   "metadata": {},
   "outputs": [
    {
     "ename": "SyntaxError",
     "evalue": "unterminated string literal (detected at line 1) (4244725729.py, line 1)",
     "output_type": "error",
     "traceback": [
      "\u001b[0;36m  Cell \u001b[0;32mIn[18], line 1\u001b[0;36m\u001b[0m\n\u001b[0;31m    e='this is my  first class\u001b[0m\n\u001b[0m      ^\u001b[0m\n\u001b[0;31mSyntaxError\u001b[0m\u001b[0;31m:\u001b[0m unterminated string literal (detected at line 1)\n"
     ]
    }
   ],
   "source": [
    "e='this is my  first class"
   ]
  },
  {
   "cell_type": "code",
   "execution_count": 19,
   "id": "b3ef5e27-4746-4ba7-ac85-e9eeee571619",
   "metadata": {},
   "outputs": [
    {
     "ename": "NameError",
     "evalue": "name 'true' is not defined",
     "output_type": "error",
     "traceback": [
      "\u001b[0;31m---------------------------------------------------------------------------\u001b[0m",
      "\u001b[0;31mNameError\u001b[0m                                 Traceback (most recent call last)",
      "Cell \u001b[0;32mIn[19], line 1\u001b[0m\n\u001b[0;32m----> 1\u001b[0m n\u001b[38;5;241m=\u001b[39m\u001b[43mtrue\u001b[49m\n",
      "\u001b[0;31mNameError\u001b[0m: name 'true' is not defined"
     ]
    }
   ],
   "source": [
    "n=true"
   ]
  },
  {
   "cell_type": "code",
   "execution_count": 20,
   "id": "06fda3c1-8daa-461e-97ff-f0eb385a3d1c",
   "metadata": {},
   "outputs": [],
   "source": [
    "n=True"
   ]
  },
  {
   "cell_type": "code",
   "execution_count": 21,
   "id": "668b4862-fcb2-4435-a0ba-2d150132ddf9",
   "metadata": {},
   "outputs": [],
   "source": [
    "m=False"
   ]
  },
  {
   "cell_type": "code",
   "execution_count": 22,
   "id": "011406ce-d943-4eda-9f6c-23a75f2b673c",
   "metadata": {},
   "outputs": [
    {
     "data": {
      "text/plain": [
       "1"
      ]
     },
     "execution_count": 22,
     "metadata": {},
     "output_type": "execute_result"
    }
   ],
   "source": [
    "m+n"
   ]
  },
  {
   "cell_type": "code",
   "execution_count": 23,
   "id": "e32d83eb-f44e-4a16-b60a-52699db1a8c1",
   "metadata": {},
   "outputs": [
    {
     "data": {
      "text/plain": [
       "0"
      ]
     },
     "execution_count": 23,
     "metadata": {},
     "output_type": "execute_result"
    }
   ],
   "source": [
    "m*n"
   ]
  },
  {
   "cell_type": "code",
   "execution_count": 24,
   "id": "096d8605-747d-4d7b-8bec-793306f231af",
   "metadata": {},
   "outputs": [
    {
     "data": {
      "text/plain": [
       "0.0"
      ]
     },
     "execution_count": 24,
     "metadata": {},
     "output_type": "execute_result"
    }
   ],
   "source": [
    "m/n"
   ]
  },
  {
   "cell_type": "code",
   "execution_count": 25,
   "id": "099c85bb-b8e6-4319-a1e9-ef0363ca6233",
   "metadata": {},
   "outputs": [
    {
     "ename": "ZeroDivisionError",
     "evalue": "division by zero",
     "output_type": "error",
     "traceback": [
      "\u001b[0;31m---------------------------------------------------------------------------\u001b[0m",
      "\u001b[0;31mZeroDivisionError\u001b[0m                         Traceback (most recent call last)",
      "Cell \u001b[0;32mIn[25], line 1\u001b[0m\n\u001b[0;32m----> 1\u001b[0m \u001b[43mn\u001b[49m\u001b[38;5;241;43m/\u001b[39;49m\u001b[43mm\u001b[49m\n",
      "\u001b[0;31mZeroDivisionError\u001b[0m: division by zero"
     ]
    }
   ],
   "source": [
    "n/m"
   ]
  },
  {
   "cell_type": "code",
   "execution_count": 26,
   "id": "f3118f10-6843-4f76-83a2-df4e9e0e8421",
   "metadata": {},
   "outputs": [
    {
     "data": {
      "text/plain": [
       "int"
      ]
     },
     "execution_count": 26,
     "metadata": {},
     "output_type": "execute_result"
    }
   ],
   "source": [
    "type(m+n)"
   ]
  },
  {
   "cell_type": "code",
   "execution_count": 27,
   "id": "2d43d433-8718-4fef-b24e-335ae6326101",
   "metadata": {},
   "outputs": [
    {
     "data": {
      "text/plain": [
       "bool"
      ]
     },
     "execution_count": 27,
     "metadata": {},
     "output_type": "execute_result"
    }
   ],
   "source": [
    "type(m)"
   ]
  },
  {
   "cell_type": "code",
   "execution_count": 28,
   "id": "842b19c1-6482-42c3-899c-ba6132265744",
   "metadata": {},
   "outputs": [
    {
     "data": {
      "text/plain": [
       "1"
      ]
     },
     "execution_count": 28,
     "metadata": {},
     "output_type": "execute_result"
    }
   ],
   "source": [
    "True*True"
   ]
  },
  {
   "cell_type": "code",
   "execution_count": 29,
   "id": "f611bc1f-a696-4abd-83a5-91c48c1f0f07",
   "metadata": {},
   "outputs": [
    {
     "ename": "NameError",
     "evalue": "name 'true' is not defined",
     "output_type": "error",
     "traceback": [
      "\u001b[0;31m---------------------------------------------------------------------------\u001b[0m",
      "\u001b[0;31mNameError\u001b[0m                                 Traceback (most recent call last)",
      "Cell \u001b[0;32mIn[29], line 1\u001b[0m\n\u001b[0;32m----> 1\u001b[0m \u001b[43mtrue\u001b[49m\u001b[38;5;241m/\u001b[39mfalse\n",
      "\u001b[0;31mNameError\u001b[0m: name 'true' is not defined"
     ]
    }
   ],
   "source": [
    "true/false"
   ]
  },
  {
   "cell_type": "code",
   "execution_count": 30,
   "id": "c904aff4-4285-447f-b18b-a243715f13a2",
   "metadata": {},
   "outputs": [
    {
     "ename": "NameError",
     "evalue": "name 'TRue' is not defined",
     "output_type": "error",
     "traceback": [
      "\u001b[0;31m---------------------------------------------------------------------------\u001b[0m",
      "\u001b[0;31mNameError\u001b[0m                                 Traceback (most recent call last)",
      "Cell \u001b[0;32mIn[30], line 1\u001b[0m\n\u001b[0;32m----> 1\u001b[0m \u001b[43mTRue\u001b[49m\u001b[38;5;241m/\u001b[39m\u001b[38;5;28;01mFalse\u001b[39;00m\n",
      "\u001b[0;31mNameError\u001b[0m: name 'TRue' is not defined"
     ]
    }
   ],
   "source": [
    "TRue/False"
   ]
  },
  {
   "cell_type": "code",
   "execution_count": 31,
   "id": "72642f72-8954-449c-a09c-9622f1216b32",
   "metadata": {},
   "outputs": [
    {
     "ename": "ZeroDivisionError",
     "evalue": "division by zero",
     "output_type": "error",
     "traceback": [
      "\u001b[0;31m---------------------------------------------------------------------------\u001b[0m",
      "\u001b[0;31mZeroDivisionError\u001b[0m                         Traceback (most recent call last)",
      "Cell \u001b[0;32mIn[31], line 1\u001b[0m\n\u001b[0;32m----> 1\u001b[0m \u001b[38;5;28;43;01mTrue\u001b[39;49;00m\u001b[38;5;241;43m/\u001b[39;49m\u001b[38;5;28;43;01mFalse\u001b[39;49;00m\n",
      "\u001b[0;31mZeroDivisionError\u001b[0m: division by zero"
     ]
    }
   ],
   "source": [
    "True/False"
   ]
  },
  {
   "cell_type": "code",
   "execution_count": 37,
   "id": "40853205-be9a-494f-b995-8133647985c3",
   "metadata": {},
   "outputs": [],
   "source": [
    "bik=5+8j"
   ]
  },
  {
   "cell_type": "code",
   "execution_count": 33,
   "id": "115a4b9f-d57c-4bbd-b665-1898438db5cb",
   "metadata": {},
   "outputs": [
    {
     "data": {
      "text/plain": [
       "complex"
      ]
     },
     "execution_count": 33,
     "metadata": {},
     "output_type": "execute_result"
    }
   ],
   "source": [
    "type(v)"
   ]
  },
  {
   "cell_type": "code",
   "execution_count": 34,
   "id": "952a79fd-2db3-48a8-aed4-ce61c26c91cd",
   "metadata": {},
   "outputs": [
    {
     "data": {
      "text/plain": [
       "5.0"
      ]
     },
     "execution_count": 34,
     "metadata": {},
     "output_type": "execute_result"
    }
   ],
   "source": [
    "v.real"
   ]
  },
  {
   "cell_type": "code",
   "execution_count": 35,
   "id": "a12179bc-9f79-45e8-9e61-e40c9b24238c",
   "metadata": {},
   "outputs": [
    {
     "data": {
      "text/plain": [
       "8.0"
      ]
     },
     "execution_count": 35,
     "metadata": {},
     "output_type": "execute_result"
    }
   ],
   "source": [
    "v.imag"
   ]
  },
  {
   "cell_type": "code",
   "execution_count": 38,
   "id": "42cdec1f-be45-4141-8b7d-d6209a46cf70",
   "metadata": {},
   "outputs": [
    {
     "data": {
      "text/plain": [
       "5.0"
      ]
     },
     "execution_count": 38,
     "metadata": {},
     "output_type": "execute_result"
    }
   ],
   "source": [
    "bik.real"
   ]
  },
  {
   "cell_type": "code",
   "execution_count": 39,
   "id": "f3f696a6-3c35-4029-96fe-53d7f77c2b9e",
   "metadata": {},
   "outputs": [
    {
     "data": {
      "text/plain": [
       "(5+8j)"
      ]
     },
     "execution_count": 39,
     "metadata": {},
     "output_type": "execute_result"
    }
   ],
   "source": [
    "bik"
   ]
  },
  {
   "cell_type": "code",
   "execution_count": 40,
   "id": "94ff8f27-bc4d-4051-95cb-24e238e15781",
   "metadata": {},
   "outputs": [
    {
     "name": "stdout",
     "output_type": "stream",
     "text": [
      "(5+8j)\n"
     ]
    }
   ],
   "source": [
    "print(bik)"
   ]
  },
  {
   "cell_type": "code",
   "execution_count": 41,
   "id": "35d8b3be-10ef-4213-8b5e-4b74bd9a68a0",
   "metadata": {},
   "outputs": [
    {
     "name": "stdout",
     "output_type": "stream",
     "text": [
      "9\n"
     ]
    }
   ],
   "source": [
    "print(9)"
   ]
  },
  {
   "cell_type": "code",
   "execution_count": 45,
   "id": "f77b2cf0-e62e-4dc8-8e2d-c930ba94736e",
   "metadata": {},
   "outputs": [
    {
     "name": "stdout",
     "output_type": "stream",
     "text": [
      "vbv\n"
     ]
    }
   ],
   "source": [
    "print (\"vbv\")\n"
   ]
  },
  {
   "cell_type": "code",
   "execution_count": 2,
   "id": "2bc961d1-8184-45d5-9bfb-a13f60c8bffa",
   "metadata": {},
   "outputs": [],
   "source": [
    "b=\"bikram\""
   ]
  },
  {
   "cell_type": "code",
   "execution_count": 3,
   "id": "7114c6f8-a51b-4f5b-9e63-51f997970005",
   "metadata": {},
   "outputs": [
    {
     "data": {
      "text/plain": [
       "str"
      ]
     },
     "execution_count": 3,
     "metadata": {},
     "output_type": "execute_result"
    }
   ],
   "source": [
    "type(b)"
   ]
  },
  {
   "cell_type": "code",
   "execution_count": 49,
   "id": "e68b37e3-404e-4f4d-a369-c66e9c223b11",
   "metadata": {},
   "outputs": [
    {
     "data": {
      "text/plain": [
       "'i'"
      ]
     },
     "execution_count": 49,
     "metadata": {},
     "output_type": "execute_result"
    }
   ],
   "source": [
    "b[1]"
   ]
  },
  {
   "cell_type": "code",
   "execution_count": 50,
   "id": "8b92f01e-ab28-47a4-9c5d-a8f8e6696049",
   "metadata": {},
   "outputs": [
    {
     "data": {
      "text/plain": [
       "'b'"
      ]
     },
     "execution_count": 50,
     "metadata": {},
     "output_type": "execute_result"
    }
   ],
   "source": [
    "b[0]"
   ]
  },
  {
   "cell_type": "code",
   "execution_count": 51,
   "id": "cd4258b6-fa67-44f6-bc6a-0af399570e84",
   "metadata": {},
   "outputs": [
    {
     "data": {
      "text/plain": [
       "'m'"
      ]
     },
     "execution_count": 51,
     "metadata": {},
     "output_type": "execute_result"
    }
   ],
   "source": [
    "b[-1]\n"
   ]
  },
  {
   "cell_type": "code",
   "execution_count": 52,
   "id": "b6fbad7c-59c2-418d-8b7f-97c94a36d401",
   "metadata": {},
   "outputs": [
    {
     "data": {
      "text/plain": [
       "'k'"
      ]
     },
     "execution_count": 52,
     "metadata": {},
     "output_type": "execute_result"
    }
   ],
   "source": [
    "b[-4]"
   ]
  },
  {
   "cell_type": "code",
   "execution_count": 53,
   "id": "6e38e4be-3e8e-403a-b8b4-41f62dde3eaa",
   "metadata": {},
   "outputs": [
    {
     "data": {
      "text/plain": [
       "'bik'"
      ]
     },
     "execution_count": 53,
     "metadata": {},
     "output_type": "execute_result"
    }
   ],
   "source": [
    "b[0:3] from 0 to n-1 give string \n",
    "by default take jump 1\n"
   ]
  },
  {
   "cell_type": "code",
   "execution_count": 54,
   "id": "56ca0c2a-f0dd-4f06-9d35-1dafa8cc59c4",
   "metadata": {},
   "outputs": [
    {
     "data": {
      "text/plain": [
       "'bka'"
      ]
     },
     "execution_count": 54,
     "metadata": {},
     "output_type": "execute_result"
    }
   ],
   "source": [
    "b[0:7:2] acess the string by useing jumping method "
   ]
  },
  {
   "cell_type": "code",
   "execution_count": 55,
   "id": "3a674556-fb39-417c-a774-476826f25a9e",
   "metadata": {},
   "outputs": [
    {
     "data": {
      "text/plain": [
       "'bikram'"
      ]
     },
     "execution_count": 55,
     "metadata": {},
     "output_type": "execute_result"
    }
   ],
   "source": [
    "b[0:7:1] mainly 1 jump between the string"
   ]
  },
  {
   "cell_type": "code",
   "execution_count": 57,
   "id": "4acfd56f-7dc4-4cd8-8015-64a8505a718b",
   "metadata": {},
   "outputs": [
    {
     "data": {
      "text/plain": [
       "'ka'"
      ]
     },
     "execution_count": 57,
     "metadata": {},
     "output_type": "execute_result"
    }
   ],
   "source": [
    "b[2::2] hear the string starting from index 2 to default is 7 and\n",
    "take jump of 2"
   ]
  },
  {
   "cell_type": "code",
   "execution_count": 60,
   "id": "8bba3b68-9c0b-47e3-b7ee-575ac61a857a",
   "metadata": {},
   "outputs": [
    {
     "ename": "ValueError",
     "evalue": "slice step cannot be zero",
     "output_type": "error",
     "traceback": [
      "\u001b[0;31m---------------------------------------------------------------------------\u001b[0m",
      "\u001b[0;31mValueError\u001b[0m                                Traceback (most recent call last)",
      "Cell \u001b[0;32mIn[60], line 1\u001b[0m\n\u001b[0;32m----> 1\u001b[0m \u001b[43mb\u001b[49m\u001b[43m[\u001b[49m\u001b[38;5;241;43m1\u001b[39;49m\u001b[43m:\u001b[49m\u001b[43m:\u001b[49m\u001b[38;5;241;43m0\u001b[39;49m\u001b[43m]\u001b[49m \n",
      "\u001b[0;31mValueError\u001b[0m: slice step cannot be zero"
     ]
    }
   ],
   "source": [
    "b[1::0] canot be zero see error"
   ]
  },
  {
   "cell_type": "code",
   "execution_count": 62,
   "id": "d329f915-7dac-439e-97fc-e48bb1cb0cb9",
   "metadata": {},
   "outputs": [
    {
     "data": {
      "text/plain": [
       "'markib'"
      ]
     },
     "execution_count": 62,
     "metadata": {},
     "output_type": "execute_result"
    }
   ],
   "source": [
    "b[::-1] see it reverse"
   ]
  },
  {
   "cell_type": "code",
   "execution_count": 63,
   "id": "37610ff0-d1f6-4b95-8956-cba2e75bcc5b",
   "metadata": {},
   "outputs": [
    {
     "data": {
      "text/plain": [
       "''"
      ]
     },
     "execution_count": 63,
     "metadata": {},
     "output_type": "execute_result"
    }
   ],
   "source": [
    "b[2:7:-1]  we going positive side but \n",
    "jump in negative side"
   ]
  },
  {
   "cell_type": "code",
   "execution_count": 75,
   "id": "1dc42cea-c8ea-45a0-9739-78c7f5fa1798",
   "metadata": {},
   "outputs": [
    {
     "data": {
      "text/plain": [
       "'markib'"
      ]
     },
     "execution_count": 75,
     "metadata": {},
     "output_type": "execute_result"
    }
   ],
   "source": [
    "b[7::-1]"
   ]
  },
  {
   "cell_type": "code",
   "execution_count": 76,
   "id": "00df14bd-4020-4da6-8312-8df95fb0c385",
   "metadata": {},
   "outputs": [
    {
     "data": {
      "text/plain": [
       "'marki'"
      ]
     },
     "execution_count": 76,
     "metadata": {},
     "output_type": "execute_result"
    }
   ],
   "source": [
    "b[7:0:-1] B is not apper because \n",
    "same rule lower and upper -1"
   ]
  },
  {
   "cell_type": "code",
   "execution_count": 82,
   "id": "34d2a2c5-38f6-4a60-9b06-f6f4abb91402",
   "metadata": {},
   "outputs": [
    {
     "data": {
      "text/plain": [
       "'arki'"
      ]
     },
     "execution_count": 82,
     "metadata": {},
     "output_type": "execute_result"
    }
   ],
   "source": [
    "b[-2:-6:-1] "
   ]
  },
  {
   "cell_type": "code",
   "execution_count": 81,
   "id": "83e8c272-839d-4570-95f5-2303145f5dff",
   "metadata": {},
   "outputs": [
    {
     "ename": "SyntaxError",
     "evalue": "invalid syntax (319656353.py, line 1)",
     "output_type": "error",
     "traceback": [
      "\u001b[0;36m  Cell \u001b[0;32mIn[81], line 1\u001b[0;36m\u001b[0m\n\u001b[0;31m    b[-2:-6:-1] again same rule upper -1\u001b[0m\n\u001b[0m                ^\u001b[0m\n\u001b[0;31mSyntaxError\u001b[0m\u001b[0;31m:\u001b[0m invalid syntax\n"
     ]
    }
   ],
   "source": [
    "b[-2:-6:-1] again same rule upper -1"
   ]
  },
  {
   "cell_type": "code",
   "execution_count": 77,
   "id": "52f81347-c265-4857-b4dc-59649b95ad6d",
   "metadata": {},
   "outputs": [
    {
     "data": {
      "text/plain": [
       "''"
      ]
     },
     "execution_count": 77,
     "metadata": {},
     "output_type": "execute_result"
    }
   ],
   "source": [
    "b[-2:-8:1] again same rule we going in posive side\n",
    "but jumping in negative side"
   ]
  },
  {
   "cell_type": "code",
   "execution_count": 83,
   "id": "d0a4c5bd-624f-441f-aadd-cfabdf0d7c0e",
   "metadata": {},
   "outputs": [
    {
     "data": {
      "text/plain": [
       "'arkib'"
      ]
     },
     "execution_count": 83,
     "metadata": {},
     "output_type": "execute_result"
    }
   ],
   "source": [
    "b[-2::-1] by default they assume their upper bound"
   ]
  },
  {
   "cell_type": "code",
   "execution_count": 84,
   "id": "ca098929-c630-45b3-afe7-c81cae6ed3fd",
   "metadata": {},
   "outputs": [
    {
     "data": {
      "text/plain": [
       "'markib'"
      ]
     },
     "execution_count": 84,
     "metadata": {},
     "output_type": "execute_result"
    }
   ],
   "source": [
    "b[::-1] if we cant inisilized it default assume\n",
    "negative index cindition if we use - ve jump -1 and -7"
   ]
  },
  {
   "cell_type": "code",
   "execution_count": 85,
   "id": "17a6d784-7535-4b40-be96-a719a9446f94",
   "metadata": {},
   "outputs": [
    {
     "data": {
      "text/plain": [
       "'bikram'"
      ]
     },
     "execution_count": 85,
     "metadata": {},
     "output_type": "execute_result"
    }
   ],
   "source": [
    "b[::1] if our jump is positive than their upper and lower bound \n",
    "are forward direction 0 and 7"
   ]
  },
  {
   "cell_type": "code",
   "execution_count": 86,
   "id": "d07cadf5-940b-4dc8-9f4e-4f081e30b6a5",
   "metadata": {},
   "outputs": [
    {
     "data": {
      "text/plain": [
       "''"
      ]
     },
     "execution_count": 86,
     "metadata": {},
     "output_type": "execute_result"
    }
   ],
   "source": [
    "b[:-90:]"
   ]
  },
  {
   "cell_type": "code",
   "execution_count": 87,
   "id": "9a60ba22-9ac7-4993-b80f-021f631b551e",
   "metadata": {},
   "outputs": [
    {
     "ename": "IndexError",
     "evalue": "string index out of range",
     "output_type": "error",
     "traceback": [
      "\u001b[0;31m---------------------------------------------------------------------------\u001b[0m",
      "\u001b[0;31mIndexError\u001b[0m                                Traceback (most recent call last)",
      "Cell \u001b[0;32mIn[87], line 1\u001b[0m\n\u001b[0;32m----> 1\u001b[0m \u001b[43mb\u001b[49m\u001b[43m[\u001b[49m\u001b[38;5;241;43m90\u001b[39;49m\u001b[43m]\u001b[49m\n",
      "\u001b[0;31mIndexError\u001b[0m: string index out of range"
     ]
    }
   ],
   "source": [
    "b[90]"
   ]
  },
  {
   "cell_type": "code",
   "execution_count": 89,
   "id": "946484c1-de7a-4cb8-84a6-e3c919805ee0",
   "metadata": {},
   "outputs": [
    {
     "data": {
      "text/plain": [
       "'markib'"
      ]
     },
     "execution_count": 89,
     "metadata": {},
     "output_type": "execute_result"
    }
   ],
   "source": [
    "b[:-9000:-1] because we move from -1 to -9000 with negative jump"
   ]
  },
  {
   "cell_type": "code",
   "execution_count": 90,
   "id": "9f2452f2-9419-400d-9ac2-725711ded919",
   "metadata": {},
   "outputs": [
    {
     "data": {
      "text/plain": [
       "''"
      ]
     },
     "execution_count": 90,
     "metadata": {},
     "output_type": "execute_result"
    }
   ],
   "source": [
    "b[-9000::-1] hear we move from -9000 to -1"
   ]
  },
  {
   "cell_type": "code",
   "execution_count": 94,
   "id": "b866d788-3643-4ee7-b86a-0adab68ed13b",
   "metadata": {},
   "outputs": [
    {
     "data": {
      "text/plain": [
       "'bikram'"
      ]
     },
     "execution_count": 94,
     "metadata": {},
     "output_type": "execute_result"
    }
   ],
   "source": [
    "b[-9000::1] here we move from -9000 to 0 by default\n",
    "positive direction and jump in positive direction"
   ]
  },
  {
   "cell_type": "code",
   "execution_count": 4,
   "id": "2968f272-5ec1-48a5-97e2-ad0c259fcf2f",
   "metadata": {},
   "outputs": [
    {
     "data": {
      "text/plain": [
       "''"
      ]
     },
     "execution_count": 4,
     "metadata": {},
     "output_type": "execute_result"
    }
   ],
   "source": [
    "b[:-6:1]by default starting point assume -1"
   ]
  },
  {
   "cell_type": "code",
   "execution_count": null,
   "id": "f087e991-d167-4f39-a0d2-399180dc5c18",
   "metadata": {},
   "outputs": [],
   "source": [
    "c=100 we cant slice because it store at sigle place\n",
    "but how we want than convert into string"
   ]
  },
  {
   "cell_type": "code",
   "execution_count": 5,
   "id": "79f27d1b-5885-4c8f-addf-7b32f6c2b184",
   "metadata": {},
   "outputs": [],
   "source": [
    "c=200\n"
   ]
  },
  {
   "cell_type": "code",
   "execution_count": 6,
   "id": "a83a2db0-6d17-4550-829c-307345f5251a",
   "metadata": {},
   "outputs": [
    {
     "ename": "TypeError",
     "evalue": "'int' object is not subscriptable",
     "output_type": "error",
     "traceback": [
      "\u001b[0;31m---------------------------------------------------------------------------\u001b[0m",
      "\u001b[0;31mTypeError\u001b[0m                                 Traceback (most recent call last)",
      "Cell \u001b[0;32mIn[6], line 1\u001b[0m\n\u001b[0;32m----> 1\u001b[0m \u001b[43mc\u001b[49m\u001b[43m[\u001b[49m\u001b[38;5;241;43m0\u001b[39;49m\u001b[43m]\u001b[49m\n",
      "\u001b[0;31mTypeError\u001b[0m: 'int' object is not subscriptable"
     ]
    }
   ],
   "source": [
    "c[0]"
   ]
  },
  {
   "cell_type": "code",
   "execution_count": 7,
   "id": "14abb763-3a38-461e-a1c3-7eaeabb77d0a",
   "metadata": {},
   "outputs": [
    {
     "data": {
      "text/plain": [
       "int"
      ]
     },
     "execution_count": 7,
     "metadata": {},
     "output_type": "execute_result"
    }
   ],
   "source": [
    "type(c)"
   ]
  },
  {
   "cell_type": "code",
   "execution_count": 4,
   "id": "f6bf5226-ac78-408d-841d-6faaef512316",
   "metadata": {},
   "outputs": [],
   "source": [
    "s1=\"this is my stringj class\""
   ]
  },
  {
   "cell_type": "code",
   "execution_count": 5,
   "id": "280234f2-2869-466a-867e-e68752cc87d7",
   "metadata": {},
   "outputs": [
    {
     "data": {
      "text/plain": [
       "24"
      ]
     },
     "execution_count": 5,
     "metadata": {},
     "output_type": "execute_result"
    }
   ],
   "source": [
    "len(s1)"
   ]
  },
  {
   "cell_type": "code",
   "execution_count": 10,
   "id": "f30291e8-60a7-42ac-84bc-59a0e84c0ff7",
   "metadata": {},
   "outputs": [
    {
     "data": {
      "text/plain": [
       "3"
      ]
     },
     "execution_count": 10,
     "metadata": {},
     "output_type": "execute_result"
    }
   ],
   "source": [
    "s1.find('s')"
   ]
  },
  {
   "cell_type": "code",
   "execution_count": 11,
   "id": "22019da4-6ce7-4e97-bcf3-100865020158",
   "metadata": {},
   "outputs": [
    {
     "data": {
      "text/plain": [
       "2"
      ]
     },
     "execution_count": 11,
     "metadata": {},
     "output_type": "execute_result"
    }
   ],
   "source": [
    "s1.find('i')"
   ]
  },
  {
   "cell_type": "code",
   "execution_count": 14,
   "id": "04734b8f-0617-4eac-8ebc-aaef7c401391",
   "metadata": {},
   "outputs": [
    {
     "data": {
      "text/plain": [
       "2"
      ]
     },
     "execution_count": 14,
     "metadata": {},
     "output_type": "execute_result"
    }
   ],
   "source": [
    "s1.find('is')"
   ]
  },
  {
   "cell_type": "code",
   "execution_count": 24,
   "id": "3f72a551-5d00-4aad-ad9d-6d5590412013",
   "metadata": {},
   "outputs": [
    {
     "data": {
      "text/plain": [
       "0"
      ]
     },
     "execution_count": 24,
     "metadata": {},
     "output_type": "execute_result"
    }
   ],
   "source": [
    "s1.find('')"
   ]
  },
  {
   "cell_type": "code",
   "execution_count": 23,
   "id": "f8926791-8f41-4e44-97ff-2616ef40fe11",
   "metadata": {},
   "outputs": [
    {
     "data": {
      "text/plain": [
       "' '"
      ]
     },
     "execution_count": 23,
     "metadata": {},
     "output_type": "execute_result"
    }
   ],
   "source": [
    "s1[4]"
   ]
  },
  {
   "cell_type": "code",
   "execution_count": 25,
   "id": "148ced75-2808-4498-9bee-ac0bfae53050",
   "metadata": {},
   "outputs": [
    {
     "data": {
      "text/plain": [
       "-1"
      ]
     },
     "execution_count": 25,
     "metadata": {},
     "output_type": "execute_result"
    }
   ],
   "source": [
    "s1.find(\"IS\")"
   ]
  },
  {
   "cell_type": "code",
   "execution_count": 26,
   "id": "7c4776f5-2aec-4dd9-bf1b-18c8cfdf81d2",
   "metadata": {},
   "outputs": [
    {
     "data": {
      "text/plain": [
       "-1"
      ]
     },
     "execution_count": 26,
     "metadata": {},
     "output_type": "execute_result"
    }
   ],
   "source": [
    "s1.find('IS')#if it not find any thing it return -1"
   ]
  },
  {
   "cell_type": "code",
   "execution_count": 27,
   "id": "1fd7c21e-3e0c-4e72-b65b-898f99fd5d55",
   "metadata": {},
   "outputs": [
    {
     "data": {
      "text/plain": [
       "5"
      ]
     },
     "execution_count": 27,
     "metadata": {},
     "output_type": "execute_result"
    }
   ],
   "source": [
    "s1.count('s')"
   ]
  },
  {
   "cell_type": "code",
   "execution_count": 28,
   "id": "7d7c41fc-f0a9-414d-9a4d-050256c553d5",
   "metadata": {},
   "outputs": [
    {
     "data": {
      "text/plain": [
       "'this is my string class'"
      ]
     },
     "execution_count": 28,
     "metadata": {},
     "output_type": "execute_result"
    }
   ],
   "source": [
    "s1"
   ]
  },
  {
   "cell_type": "code",
   "execution_count": 29,
   "id": "a0a75812-a682-44c5-8253-c74ea3969fca",
   "metadata": {},
   "outputs": [
    {
     "data": {
      "text/plain": [
       "1"
      ]
     },
     "execution_count": 29,
     "metadata": {},
     "output_type": "execute_result"
    }
   ],
   "source": [
    "s1.count('st')"
   ]
  },
  {
   "cell_type": "code",
   "execution_count": 30,
   "id": "f54bf961-d98e-4b99-a21d-d3b5f52e42e2",
   "metadata": {},
   "outputs": [
    {
     "data": {
      "text/plain": [
       "0"
      ]
     },
     "execution_count": 30,
     "metadata": {},
     "output_type": "execute_result"
    }
   ],
   "source": [
    "s1.count(\"z\")"
   ]
  },
  {
   "cell_type": "code",
   "execution_count": 31,
   "id": "8f1a4fd8-8363-4846-b11a-72f0e79b4415",
   "metadata": {},
   "outputs": [
    {
     "data": {
      "text/plain": [
       "'THIS IS MY STRING CLASS'"
      ]
     },
     "execution_count": 31,
     "metadata": {},
     "output_type": "execute_result"
    }
   ],
   "source": [
    "s1.upper()"
   ]
  },
  {
   "cell_type": "code",
   "execution_count": 32,
   "id": "6d3d4d7b-1724-4c64-94a0-610a69647954",
   "metadata": {},
   "outputs": [
    {
     "data": {
      "text/plain": [
       "'this is my string class'"
      ]
     },
     "execution_count": 32,
     "metadata": {},
     "output_type": "execute_result"
    }
   ],
   "source": [
    "s1.lower()"
   ]
  },
  {
   "cell_type": "code",
   "execution_count": 33,
   "id": "327e7c00-a494-4e95-b4c4-47f07bcb7f6b",
   "metadata": {},
   "outputs": [
    {
     "data": {
      "text/plain": [
       "'This Is My String Class'"
      ]
     },
     "execution_count": 33,
     "metadata": {},
     "output_type": "execute_result"
    }
   ],
   "source": [
    "s1.title()"
   ]
  },
  {
   "cell_type": "code",
   "execution_count": 36,
   "id": "aec04f8a-e1b1-4ea8-b46a-81e5d53245d0",
   "metadata": {},
   "outputs": [
    {
     "data": {
      "text/plain": [
       "<function str.title()>"
      ]
     },
     "execution_count": 36,
     "metadata": {},
     "output_type": "execute_result"
    }
   ],
   "source": [
    "s1.title"
   ]
  },
  {
   "cell_type": "code",
   "execution_count": 38,
   "id": "f051a905-4ee0-48a8-9c42-11557e4de560",
   "metadata": {},
   "outputs": [
    {
     "data": {
      "text/plain": [
       "'This is my string class'"
      ]
     },
     "execution_count": 38,
     "metadata": {},
     "output_type": "execute_result"
    }
   ],
   "source": [
    "s1.capitalize()"
   ]
  },
  {
   "cell_type": "code",
   "execution_count": 39,
   "id": "b2545a8c-d2ca-43e5-a82a-d4bbcd0e1cc0",
   "metadata": {},
   "outputs": [
    {
     "ename": "NameError",
     "evalue": "name 's' is not defined",
     "output_type": "error",
     "traceback": [
      "\u001b[0;31m---------------------------------------------------------------------------\u001b[0m",
      "\u001b[0;31mNameError\u001b[0m                                 Traceback (most recent call last)",
      "Cell \u001b[0;32mIn[39], line 1\u001b[0m\n\u001b[0;32m----> 1\u001b[0m \u001b[43ms\u001b[49m\u001b[38;5;241m+\u001b[39m\u001b[38;5;241m1\u001b[39m\n",
      "\u001b[0;31mNameError\u001b[0m: name 's' is not defined"
     ]
    }
   ],
   "source": [
    "s+1 #because both are different type data type"
   ]
  },
  {
   "cell_type": "code",
   "execution_count": 47,
   "id": "5571a295-a139-4ee8-9b37-0d3b7a03a874",
   "metadata": {},
   "outputs": [
    {
     "data": {
      "text/plain": [
       "'this is my string class bikram'"
      ]
     },
     "execution_count": 47,
     "metadata": {},
     "output_type": "execute_result"
    }
   ],
   "source": [
    "s1+ \" bikram\""
   ]
  },
  {
   "cell_type": "code",
   "execution_count": 48,
   "id": "789014f1-d209-4091-8f38-d78e350ea77d",
   "metadata": {},
   "outputs": [
    {
     "data": {
      "text/plain": [
       "'this is my string class1'"
      ]
     },
     "execution_count": 48,
     "metadata": {},
     "output_type": "execute_result"
    }
   ],
   "source": [
    "s1+'1'"
   ]
  },
  {
   "cell_type": "code",
   "execution_count": 50,
   "id": "b2dd110e-f4cb-46fc-9c20-d0e015379196",
   "metadata": {},
   "outputs": [
    {
     "data": {
      "text/plain": [
       "'this is my string class2'"
      ]
     },
     "execution_count": 50,
     "metadata": {},
     "output_type": "execute_result"
    }
   ],
   "source": [
    "s1 + str(2)"
   ]
  },
  {
   "cell_type": "code",
   "execution_count": 51,
   "id": "f0b86bd4-957e-4bb9-85ec-4ffda364c1a7",
   "metadata": {},
   "outputs": [
    {
     "data": {
      "text/plain": [
       "'this is my string classthis is my string classthis is my string class'"
      ]
     },
     "execution_count": 51,
     "metadata": {},
     "output_type": "execute_result"
    }
   ],
   "source": [
    "s1*3"
   ]
  },
  {
   "cell_type": "code",
   "execution_count": 52,
   "id": "3a152660-826f-49f0-94f2-b9c30e8972ed",
   "metadata": {},
   "outputs": [
    {
     "data": {
      "text/plain": [
       "'bikrambikrambikram'"
      ]
     },
     "execution_count": 52,
     "metadata": {},
     "output_type": "execute_result"
    }
   ],
   "source": [
    "\"bikram\"*3"
   ]
  },
  {
   "cell_type": "code",
   "execution_count": 53,
   "id": "6f1f06e9-73b0-4fb4-ac08-1ab6449fab6c",
   "metadata": {},
   "outputs": [
    {
     "ename": "TypeError",
     "evalue": "unsupported operand type(s) for /: 'str' and 'int'",
     "output_type": "error",
     "traceback": [
      "\u001b[0;31m---------------------------------------------------------------------------\u001b[0m",
      "\u001b[0;31mTypeError\u001b[0m                                 Traceback (most recent call last)",
      "Cell \u001b[0;32mIn[53], line 1\u001b[0m\n\u001b[0;32m----> 1\u001b[0m \u001b[38;5;124;43m\"\u001b[39;49m\u001b[38;5;124;43mbikram\u001b[39;49m\u001b[38;5;124;43m\"\u001b[39;49m\u001b[38;5;241;43m/\u001b[39;49m\u001b[38;5;241;43m4\u001b[39;49m\n",
      "\u001b[0;31mTypeError\u001b[0m: unsupported operand type(s) for /: 'str' and 'int'"
     ]
    }
   ],
   "source": [
    "\"bikram\"/4"
   ]
  },
  {
   "cell_type": "code",
   "execution_count": 55,
   "id": "36c6f4bc-86dd-441a-ac4f-15a18c515f2a",
   "metadata": {},
   "outputs": [
    {
     "data": {
      "text/plain": [
       "'bikramji'"
      ]
     },
     "execution_count": 55,
     "metadata": {},
     "output_type": "execute_result"
    }
   ],
   "source": [
    "\"bik\"+\"ramji\""
   ]
  },
  {
   "cell_type": "code",
   "execution_count": 58,
   "id": "864fe7b8-9257-4048-907c-5fc7a923d896",
   "metadata": {},
   "outputs": [
    {
     "data": {
      "text/plain": [
       "'this is my string class'"
      ]
     },
     "execution_count": 58,
     "metadata": {},
     "output_type": "execute_result"
    }
   ],
   "source": [
    "s1"
   ]
  },
  {
   "cell_type": "code",
   "execution_count": 59,
   "id": "4d4a23d2-1a48-4b82-b86a-b8bbddf717d7",
   "metadata": {},
   "outputs": [
    {
     "data": {
      "text/plain": [
       "'bikram kumar jha'"
      ]
     },
     "execution_count": 59,
     "metadata": {},
     "output_type": "execute_result"
    }
   ],
   "source": [
    "'bikram kumar jha'"
   ]
  },
  {
   "cell_type": "code",
   "execution_count": 8,
   "id": "74914db9-c26c-4679-a24f-51fe5293e8f4",
   "metadata": {},
   "outputs": [
    {
     "data": {
      "text/plain": [
       "\"bike' and wheejjl\""
      ]
     },
     "execution_count": 8,
     "metadata": {},
     "output_type": "execute_result"
    }
   ],
   "source": [
    "\"bike' and whekkejjl\""
   ]
  },
  {
   "cell_type": "code",
   "execution_count": 61,
   "id": "413918e8-e28d-47c9-99ba-82c35a719dbf",
   "metadata": {},
   "outputs": [
    {
     "ename": "SyntaxError",
     "evalue": "invalid syntax (3697634282.py, line 1)",
     "output_type": "error",
     "traceback": [
      "\u001b[0;36m  Cell \u001b[0;32mIn[61], line 1\u001b[0;36m\u001b[0m\n\u001b[0;31m    this is my first classs for programm\u001b[0m\n\u001b[0m               ^\u001b[0m\n\u001b[0;31mSyntaxError\u001b[0m\u001b[0;31m:\u001b[0m invalid syntax\n"
     ]
    }
   ],
   "source": [
    "##this is my first classs for programm"
   ]
  },
  {
   "cell_type": "code",
   "execution_count": 9,
   "id": "fa0b807e-61ce-49ae-b2ab-fce3af67f386",
   "metadata": {},
   "outputs": [
    {
     "data": {
      "text/plain": [
       "1"
      ]
     },
     "execution_count": 9,
     "metadata": {},
     "output_type": "execute_result"
    }
   ],
   "source": [
    "s1.count('l')\n"
   ]
  },
  {
   "cell_type": "code",
   "execution_count": 12,
   "id": "bde4d4b9-f618-4421-853c-89c2eb5e7621",
   "metadata": {},
   "outputs": [],
   "source": [
    "\"\"\" this is my first class for programing\n",
    "i hava learnt variable deceleration data type string boolean complex \"\"\"\n",
    "#multiline comment"
   ]
  },
  {
   "cell_type": "code",
   "execution_count": 12,
   "id": "196e1a95-1555-438a-822e-735f22d3e84d",
   "metadata": {},
   "outputs": [],
   "source": [
    "b=\"\"\" this is my first class for programing\n",
    "i hava learnt variable deceleration data type string boolean complex \"\"\""
   ]
  },
  {
   "cell_type": "code",
   "execution_count": 13,
   "id": "dc3f37dc-4adc-4d77-b43c-72a36826f204",
   "metadata": {},
   "outputs": [
    {
     "data": {
      "text/plain": [
       "' this is my first class for programing\\ni hava learnt variable deceleration data type string boolean complex '"
      ]
     },
     "execution_count": 13,
     "metadata": {},
     "output_type": "execute_result"
    }
   ],
   "source": [
    "b"
   ]
  },
  {
   "cell_type": "code",
   "execution_count": 14,
   "id": "40327fb2-a239-4936-ac05-aadb34c91695",
   "metadata": {},
   "outputs": [
    {
     "data": {
      "text/plain": [
       "'c naeloob gnirts epyt atad noitareleced elbairav tnrael avah i\\ngnimargorp rof ssalc tsrif ym si siht '"
      ]
     },
     "execution_count": 14,
     "metadata": {},
     "output_type": "execute_result"
    }
   ],
   "source": [
    "b[-8::-1]"
   ]
  },
  {
   "cell_type": "code",
   "execution_count": 19,
   "id": "b96d2d37-8598-493d-9e9c-e91222f1050c",
   "metadata": {},
   "outputs": [],
   "source": [
    "s=\"sllikswp\""
   ]
  },
  {
   "cell_type": "code",
   "execution_count": 23,
   "id": "e1507610-dc96-4c57-8761-9f3d29dfb986",
   "metadata": {},
   "outputs": [
    {
     "data": {
      "text/plain": [
       "'ll'"
      ]
     },
     "execution_count": 23,
     "metadata": {},
     "output_type": "execute_result"
    }
   ],
   "source": [
    "s[-6:-8:-1]"
   ]
  },
  {
   "cell_type": "code",
   "execution_count": null,
   "id": "10496618-3706-4744-968d-a8437d994286",
   "metadata": {},
   "outputs": [],
   "source": [
    "LIST DATAstructure"
   ]
  },
  {
   "cell_type": "code",
   "execution_count": 51,
   "id": "8ed3048d-16c1-4f16-b313-e2aeeb5c8bb2",
   "metadata": {},
   "outputs": [],
   "source": [
    "l=[1,323,433,\"dsd\",\"eytrewe\",\"ddd\",True,5+7j,343.90]"
   ]
  },
  {
   "cell_type": "code",
   "execution_count": 25,
   "id": "6c1d3f94-5d05-4378-b123-ddc773acd0ad",
   "metadata": {},
   "outputs": [
    {
     "data": {
      "text/plain": [
       "list"
      ]
     },
     "execution_count": 25,
     "metadata": {},
     "output_type": "execute_result"
    }
   ],
   "source": [
    "type(l)"
   ]
  },
  {
   "cell_type": "code",
   "execution_count": 26,
   "id": "c48091a0-dc6a-4231-9d35-51c14556a2eb",
   "metadata": {},
   "outputs": [
    {
     "data": {
      "text/plain": [
       "1"
      ]
     },
     "execution_count": 26,
     "metadata": {},
     "output_type": "execute_result"
    }
   ],
   "source": [
    "l[0]"
   ]
  },
  {
   "cell_type": "code",
   "execution_count": 27,
   "id": "c1a509b5-9d3a-4495-8707-aff10813bd66",
   "metadata": {},
   "outputs": [
    {
     "data": {
      "text/plain": [
       "'ee'"
      ]
     },
     "execution_count": 27,
     "metadata": {},
     "output_type": "execute_result"
    }
   ],
   "source": [
    "l[4]"
   ]
  },
  {
   "cell_type": "code",
   "execution_count": 28,
   "id": "b33d3b92-b03b-4d60-b8bd-06b1ce62ced8",
   "metadata": {},
   "outputs": [
    {
     "data": {
      "text/plain": [
       "'ddd'"
      ]
     },
     "execution_count": 28,
     "metadata": {},
     "output_type": "execute_result"
    }
   ],
   "source": [
    "l[5]"
   ]
  },
  {
   "cell_type": "code",
   "execution_count": 29,
   "id": "22aa1304-e637-4438-a346-e9e9c5534227",
   "metadata": {},
   "outputs": [
    {
     "data": {
      "text/plain": [
       "[1, 323, 433, 'dsd', 'ee', 'ddd', True, (5+7j), 343.9]"
      ]
     },
     "execution_count": 29,
     "metadata": {},
     "output_type": "execute_result"
    }
   ],
   "source": [
    "l"
   ]
  },
  {
   "cell_type": "code",
   "execution_count": 36,
   "id": "38628c3c-9f8b-43fd-90c8-42f8a0d43e66",
   "metadata": {},
   "outputs": [
    {
     "data": {
      "text/plain": [
       "['dsd', 'ee', 'ddd', True]"
      ]
     },
     "execution_count": 36,
     "metadata": {},
     "output_type": "execute_result"
    }
   ],
   "source": [
    "l[-6:-2]#same as string data type"
   ]
  },
  {
   "cell_type": "code",
   "execution_count": 37,
   "id": "5f558d58-bbd4-4330-8465-8b37b6a1df30",
   "metadata": {},
   "outputs": [
    {
     "data": {
      "text/plain": [
       "343.9"
      ]
     },
     "execution_count": 37,
     "metadata": {},
     "output_type": "execute_result"
    }
   ],
   "source": [
    "l[-1]"
   ]
  },
  {
   "cell_type": "code",
   "execution_count": 38,
   "id": "2019fb56-70f4-4844-8d17-cf71242d71a0",
   "metadata": {},
   "outputs": [
    {
     "data": {
      "text/plain": [
       "[343.9, (5+7j), True, 'ddd', 'ee', 'dsd', 433, 323, 1]"
      ]
     },
     "execution_count": 38,
     "metadata": {},
     "output_type": "execute_result"
    }
   ],
   "source": [
    "l[::-1]"
   ]
  },
  {
   "cell_type": "code",
   "execution_count": 41,
   "id": "3635f424-3a26-4d80-a16a-b6ed94666fe0",
   "metadata": {},
   "outputs": [
    {
     "data": {
      "text/plain": [
       "[1, 433, 'ee', True, 343.9]"
      ]
     },
     "execution_count": 41,
     "metadata": {},
     "output_type": "execute_result"
    }
   ],
   "source": [
    "l[::2]"
   ]
  },
  {
   "cell_type": "code",
   "execution_count": 42,
   "id": "aa5c8380-62a0-4717-93b2-97e8931ca93a",
   "metadata": {},
   "outputs": [],
   "source": [
    "s=\"string\""
   ]
  },
  {
   "cell_type": "code",
   "execution_count": 43,
   "id": "22252036-b4b0-47e4-944e-657dcdaa02da",
   "metadata": {},
   "outputs": [
    {
     "ename": "TypeError",
     "evalue": "can only concatenate list (not \"str\") to list",
     "output_type": "error",
     "traceback": [
      "\u001b[0;31m---------------------------------------------------------------------------\u001b[0m",
      "\u001b[0;31mTypeError\u001b[0m                                 Traceback (most recent call last)",
      "Cell \u001b[0;32mIn[43], line 1\u001b[0m\n\u001b[0;32m----> 1\u001b[0m \u001b[43ml\u001b[49m\u001b[38;5;241;43m+\u001b[39;49m\u001b[43ms\u001b[49m\n",
      "\u001b[0;31mTypeError\u001b[0m: can only concatenate list (not \"str\") to list"
     ]
    }
   ],
   "source": [
    "l+s"
   ]
  },
  {
   "cell_type": "code",
   "execution_count": 44,
   "id": "310c33e1-f3ca-42a0-ad84-247d73166552",
   "metadata": {},
   "outputs": [
    {
     "data": {
      "text/plain": [
       "['s', 't', 'r', 'i', 'n', 'g']"
      ]
     },
     "execution_count": 44,
     "metadata": {},
     "output_type": "execute_result"
    }
   ],
   "source": [
    "list(s)"
   ]
  },
  {
   "cell_type": "code",
   "execution_count": 45,
   "id": "c5d6395e-4544-4234-9980-60404bffbec7",
   "metadata": {},
   "outputs": [
    {
     "data": {
      "text/plain": [
       "['s',\n",
       " 't',\n",
       " 'r',\n",
       " 'i',\n",
       " 'n',\n",
       " 'g',\n",
       " 1,\n",
       " 323,\n",
       " 433,\n",
       " 'dsd',\n",
       " 'ee',\n",
       " 'ddd',\n",
       " True,\n",
       " (5+7j),\n",
       " 343.9]"
      ]
     },
     "execution_count": 45,
     "metadata": {},
     "output_type": "execute_result"
    }
   ],
   "source": [
    "list(s)+l"
   ]
  },
  {
   "cell_type": "code",
   "execution_count": 46,
   "id": "721cfbf5-1c20-4c3a-a1de-98a2b581194e",
   "metadata": {},
   "outputs": [
    {
     "data": {
      "text/plain": [
       "[1, 323, 433, 'dsd', 'ee', 'ddd', True, (5+7j), 343.9]"
      ]
     },
     "execution_count": 46,
     "metadata": {},
     "output_type": "execute_result"
    }
   ],
   "source": [
    "l"
   ]
  },
  {
   "cell_type": "code",
   "execution_count": 64,
   "id": "e9bb0d2a-2b85-45cf-be55-4cbde11fc3a2",
   "metadata": {},
   "outputs": [
    {
     "data": {
      "text/plain": [
       "'eytrewe'"
      ]
     },
     "execution_count": 64,
     "metadata": {},
     "output_type": "execute_result"
    }
   ],
   "source": [
    "l[4]"
   ]
  },
  {
   "cell_type": "code",
   "execution_count": 62,
   "id": "ac1c22e0-c6b1-4f0f-95e6-ade9e58922ab",
   "metadata": {},
   "outputs": [
    {
     "data": {
      "text/plain": [
       "'eytre'"
      ]
     },
     "execution_count": 62,
     "metadata": {},
     "output_type": "execute_result"
    }
   ],
   "source": [
    "l[4][0:5]"
   ]
  },
  {
   "cell_type": "code",
   "execution_count": 65,
   "id": "1c9de3df-f57e-4058-a1f2-fcda788a329c",
   "metadata": {},
   "outputs": [
    {
     "data": {
      "text/plain": [
       "True"
      ]
     },
     "execution_count": 65,
     "metadata": {},
     "output_type": "execute_result"
    }
   ],
   "source": [
    "l[6]"
   ]
  },
  {
   "cell_type": "code",
   "execution_count": 68,
   "id": "db277dc5-2eb0-4efa-b4fd-1454a0d52283",
   "metadata": {},
   "outputs": [
    {
     "data": {
      "text/plain": [
       "'Tr'"
      ]
     },
     "execution_count": 68,
     "metadata": {},
     "output_type": "execute_result"
    }
   ],
   "source": [
    "str(l[6])[0:2]"
   ]
  },
  {
   "cell_type": "code",
   "execution_count": 69,
   "id": "7067b51d-1bac-4ab4-88e8-afed160f591d",
   "metadata": {},
   "outputs": [],
   "source": [
    "#how to concate the two list\n",
    "l1=[1,2,3,4,5,6]"
   ]
  },
  {
   "cell_type": "code",
   "execution_count": 70,
   "id": "c356aac8-9e50-466d-8438-6c8ad95bac46",
   "metadata": {},
   "outputs": [
    {
     "data": {
      "text/plain": [
       "[1, 323, 433, 'dsd', 'eytrewe', 'ddd', True, (5+7j), 343.9, 1, 2, 3, 4, 5, 6]"
      ]
     },
     "execution_count": 70,
     "metadata": {},
     "output_type": "execute_result"
    }
   ],
   "source": [
    "l+l1\n"
   ]
  },
  {
   "cell_type": "code",
   "execution_count": 71,
   "id": "a0743de5-2bf2-4c67-9bf4-7470365df0df",
   "metadata": {},
   "outputs": [
    {
     "data": {
      "text/plain": [
       "[1, 2, 3, 4, 5, 6, 1, 2, 3, 4, 5, 6, 1, 2, 3, 4, 5, 6]"
      ]
     },
     "execution_count": 71,
     "metadata": {},
     "output_type": "execute_result"
    }
   ],
   "source": [
    "l1*3"
   ]
  },
  {
   "cell_type": "code",
   "execution_count": 72,
   "id": "853a9d01-6d1c-4b21-87db-57ea3b42cd3d",
   "metadata": {},
   "outputs": [
    {
     "data": {
      "text/plain": [
       "18"
      ]
     },
     "execution_count": 72,
     "metadata": {},
     "output_type": "execute_result"
    }
   ],
   "source": [
    "len(l1*3)"
   ]
  },
  {
   "cell_type": "code",
   "execution_count": 73,
   "id": "20577d94-6283-46bf-9cf4-4839850af481",
   "metadata": {},
   "outputs": [],
   "source": [
    "l.append(5)"
   ]
  },
  {
   "cell_type": "code",
   "execution_count": 74,
   "id": "a14ecf9a-432b-428e-8834-01f59164a17b",
   "metadata": {},
   "outputs": [
    {
     "data": {
      "text/plain": [
       "[1, 323, 433, 'dsd', 'eytrewe', 'ddd', True, (5+7j), 343.9, 5]"
      ]
     },
     "execution_count": 74,
     "metadata": {},
     "output_type": "execute_result"
    }
   ],
   "source": [
    "l"
   ]
  },
  {
   "cell_type": "code",
   "execution_count": 75,
   "id": "874da116-da59-4e4f-96b7-4cae1bee0e34",
   "metadata": {},
   "outputs": [],
   "source": [
    "l.append(\"gbfg\")"
   ]
  },
  {
   "cell_type": "code",
   "execution_count": 76,
   "id": "c4fd3686-a7e9-4725-a5df-e38983a52a0f",
   "metadata": {},
   "outputs": [
    {
     "data": {
      "text/plain": [
       "[1, 323, 433, 'dsd', 'eytrewe', 'ddd', True, (5+7j), 343.9, 5, 'gbfg']"
      ]
     },
     "execution_count": 76,
     "metadata": {},
     "output_type": "execute_result"
    }
   ],
   "source": [
    "l"
   ]
  },
  {
   "cell_type": "code",
   "execution_count": 77,
   "id": "ecd3d8cc-2afc-4f76-8bfd-599e7c408079",
   "metadata": {},
   "outputs": [
    {
     "data": {
      "text/plain": [
       "<function list.append(object, /)>"
      ]
     },
     "execution_count": 77,
     "metadata": {},
     "output_type": "execute_result"
    }
   ],
   "source": [
    "l.append"
   ]
  },
  {
   "cell_type": "code",
   "execution_count": 78,
   "id": "875db166-aafa-4f19-b0a9-eb20dd191822",
   "metadata": {},
   "outputs": [],
   "source": [
    "s=\"pwskill\""
   ]
  },
  {
   "cell_type": "code",
   "execution_count": 79,
   "id": "09651d30-2eae-4c29-921b-5a71067d664e",
   "metadata": {},
   "outputs": [],
   "source": [
    "l.append(s)"
   ]
  },
  {
   "cell_type": "code",
   "execution_count": 80,
   "id": "a1f3a920-646d-4bfa-b7ba-0a234148c012",
   "metadata": {},
   "outputs": [
    {
     "data": {
      "text/plain": [
       "[1,\n",
       " 323,\n",
       " 433,\n",
       " 'dsd',\n",
       " 'eytrewe',\n",
       " 'ddd',\n",
       " True,\n",
       " (5+7j),\n",
       " 343.9,\n",
       " 5,\n",
       " 'gbfg',\n",
       " 'pwskill']"
      ]
     },
     "execution_count": 80,
     "metadata": {},
     "output_type": "execute_result"
    }
   ],
   "source": [
    "l"
   ]
  },
  {
   "cell_type": "code",
   "execution_count": 81,
   "id": "3323763b-3231-40d7-af5d-750b9085cd45",
   "metadata": {},
   "outputs": [
    {
     "ename": "TypeError",
     "evalue": "'builtin_function_or_method' object is not subscriptable",
     "output_type": "error",
     "traceback": [
      "\u001b[0;31m---------------------------------------------------------------------------\u001b[0m",
      "\u001b[0;31mTypeError\u001b[0m                                 Traceback (most recent call last)",
      "Cell \u001b[0;32mIn[81], line 1\u001b[0m\n\u001b[0;32m----> 1\u001b[0m \u001b[43ml\u001b[49m\u001b[38;5;241;43m.\u001b[39;49m\u001b[43mappend\u001b[49m\u001b[43m[\u001b[49m\u001b[43ml1\u001b[49m\u001b[43m]\u001b[49m\n",
      "\u001b[0;31mTypeError\u001b[0m: 'builtin_function_or_method' object is not subscriptable"
     ]
    }
   ],
   "source": [
    "l.append[l1]"
   ]
  },
  {
   "cell_type": "code",
   "execution_count": 82,
   "id": "5b19c18f-16ba-410f-b8d9-d24f95b33b80",
   "metadata": {},
   "outputs": [
    {
     "data": {
      "text/plain": [
       "[1, 2, 3, 4, 5, 6]"
      ]
     },
     "execution_count": 82,
     "metadata": {},
     "output_type": "execute_result"
    }
   ],
   "source": [
    "l1"
   ]
  },
  {
   "cell_type": "code",
   "execution_count": 83,
   "id": "9adad383-21a2-44a5-9198-9a0fbdf2ea50",
   "metadata": {},
   "outputs": [],
   "source": [
    "l.append(l1)"
   ]
  },
  {
   "cell_type": "code",
   "execution_count": 84,
   "id": "33f56d2a-f442-4ec0-974a-897972a27f88",
   "metadata": {},
   "outputs": [
    {
     "data": {
      "text/plain": [
       "[1,\n",
       " 323,\n",
       " 433,\n",
       " 'dsd',\n",
       " 'eytrewe',\n",
       " 'ddd',\n",
       " True,\n",
       " (5+7j),\n",
       " 343.9,\n",
       " 5,\n",
       " 'gbfg',\n",
       " 'pwskill',\n",
       " [1, 2, 3, 4, 5, 6]]"
      ]
     },
     "execution_count": 84,
     "metadata": {},
     "output_type": "execute_result"
    }
   ],
   "source": [
    "l"
   ]
  },
  {
   "cell_type": "code",
   "execution_count": 85,
   "id": "2a9e4d09-3acb-43af-b529-93217ca2cebc",
   "metadata": {},
   "outputs": [
    {
     "data": {
      "text/plain": [
       "[1, 2, 3, 4, 5, 6]"
      ]
     },
     "execution_count": 85,
     "metadata": {},
     "output_type": "execute_result"
    }
   ],
   "source": [
    "l[-1]"
   ]
  },
  {
   "cell_type": "code",
   "execution_count": 86,
   "id": "f3564bff-ec96-4503-8758-f2a44b42075e",
   "metadata": {},
   "outputs": [
    {
     "data": {
      "text/plain": [
       "[1, 2]"
      ]
     },
     "execution_count": 86,
     "metadata": {},
     "output_type": "execute_result"
    }
   ],
   "source": [
    "l[-1][0:2]"
   ]
  },
  {
   "cell_type": "code",
   "execution_count": 87,
   "id": "dd048024-5ccf-4246-9b2f-957156e7e9a6",
   "metadata": {},
   "outputs": [
    {
     "ename": "TypeError",
     "evalue": "'int' object is not iterable",
     "output_type": "error",
     "traceback": [
      "\u001b[0;31m---------------------------------------------------------------------------\u001b[0m",
      "\u001b[0;31mTypeError\u001b[0m                                 Traceback (most recent call last)",
      "Cell \u001b[0;32mIn[87], line 1\u001b[0m\n\u001b[0;32m----> 1\u001b[0m \u001b[43ml\u001b[49m\u001b[38;5;241;43m.\u001b[39;49m\u001b[43mextend\u001b[49m\u001b[43m(\u001b[49m\u001b[38;5;241;43m4\u001b[39;49m\u001b[43m)\u001b[49m\n",
      "\u001b[0;31mTypeError\u001b[0m: 'int' object is not iterable"
     ]
    }
   ],
   "source": [
    "l.extend(4)#extend those data type who break in some indentites\n",
    "#tring break through character"
   ]
  },
  {
   "cell_type": "code",
   "execution_count": 88,
   "id": "98c25792-3b41-4539-a603-c0bb62678dcf",
   "metadata": {},
   "outputs": [],
   "source": [
    "l.extend(\"bikram\")"
   ]
  },
  {
   "cell_type": "code",
   "execution_count": 89,
   "id": "14f66706-889f-405a-bbe3-1acfd0e5a821",
   "metadata": {},
   "outputs": [
    {
     "data": {
      "text/plain": [
       "[1,\n",
       " 323,\n",
       " 433,\n",
       " 'dsd',\n",
       " 'eytrewe',\n",
       " 'ddd',\n",
       " True,\n",
       " (5+7j),\n",
       " 343.9,\n",
       " 5,\n",
       " 'gbfg',\n",
       " 'pwskill',\n",
       " [1, 2, 3, 4, 5, 6],\n",
       " 'b',\n",
       " 'i',\n",
       " 'k',\n",
       " 'r',\n",
       " 'a',\n",
       " 'm']"
      ]
     },
     "execution_count": 89,
     "metadata": {},
     "output_type": "execute_result"
    }
   ],
   "source": [
    "l"
   ]
  },
  {
   "cell_type": "code",
   "execution_count": 90,
   "id": "354ab8bf-5dfe-4535-b337-dfbaa3f20a65",
   "metadata": {},
   "outputs": [],
   "source": [
    "l.extend([1,2,3,4,5])"
   ]
  },
  {
   "cell_type": "code",
   "execution_count": 91,
   "id": "e0b8bf78-c159-4de1-bcce-b9782c63c79b",
   "metadata": {},
   "outputs": [
    {
     "data": {
      "text/plain": [
       "[1,\n",
       " 323,\n",
       " 433,\n",
       " 'dsd',\n",
       " 'eytrewe',\n",
       " 'ddd',\n",
       " True,\n",
       " (5+7j),\n",
       " 343.9,\n",
       " 5,\n",
       " 'gbfg',\n",
       " 'pwskill',\n",
       " [1, 2, 3, 4, 5, 6],\n",
       " 'b',\n",
       " 'i',\n",
       " 'k',\n",
       " 'r',\n",
       " 'a',\n",
       " 'm',\n",
       " 1,\n",
       " 2,\n",
       " 3,\n",
       " 4,\n",
       " 5]"
      ]
     },
     "execution_count": 91,
     "metadata": {},
     "output_type": "execute_result"
    }
   ],
   "source": [
    "l"
   ]
  },
  {
   "cell_type": "code",
   "execution_count": null,
   "id": "c1a21d11-8b6b-4e21-8785-174429d90d93",
   "metadata": {},
   "outputs": [],
   "source": [
    "#extend are break through the element int to the list\n",
    "#append at it is put inside in the list \n"
   ]
  },
  {
   "cell_type": "code",
   "execution_count": 92,
   "id": "57a5cad2-4671-474d-89c4-79417c11579e",
   "metadata": {},
   "outputs": [
    {
     "data": {
      "text/plain": [
       "[1, 2, 3, 4, 5, 6]"
      ]
     },
     "execution_count": 92,
     "metadata": {},
     "output_type": "execute_result"
    }
   ],
   "source": [
    "l1\n"
   ]
  },
  {
   "cell_type": "code",
   "execution_count": 93,
   "id": "387e2a9b-431e-4dcf-8bfe-b29ea3f7817a",
   "metadata": {},
   "outputs": [],
   "source": [
    "l1.insert(1,\"bikram\")"
   ]
  },
  {
   "cell_type": "code",
   "execution_count": 94,
   "id": "479c060a-1e17-4db5-9d00-901177c63b0e",
   "metadata": {},
   "outputs": [
    {
     "data": {
      "text/plain": [
       "[1, 'bikram', 2, 3, 4, 5, 6]"
      ]
     },
     "execution_count": 94,
     "metadata": {},
     "output_type": "execute_result"
    }
   ],
   "source": [
    "l1"
   ]
  },
  {
   "cell_type": "code",
   "execution_count": 97,
   "id": "f49c726b-d7ab-48ee-b1d5-1bf4bf61d7fc",
   "metadata": {},
   "outputs": [],
   "source": [
    "l1.insert(2,[2,3,4,4,5])"
   ]
  },
  {
   "cell_type": "code",
   "execution_count": 98,
   "id": "34e124f7-09df-4a04-9886-0e65da3d742e",
   "metadata": {},
   "outputs": [
    {
     "data": {
      "text/plain": [
       "[1, 'bikram', [2, 3, 4, 4, 5], 2, 3, 4, 5, 6]"
      ]
     },
     "execution_count": 98,
     "metadata": {},
     "output_type": "execute_result"
    }
   ],
   "source": [
    "l1"
   ]
  },
  {
   "cell_type": "code",
   "execution_count": 99,
   "id": "cf18e7b3-51d7-4713-a117-cc4639f08260",
   "metadata": {},
   "outputs": [],
   "source": [
    "l1.insert(-1,20)"
   ]
  },
  {
   "cell_type": "code",
   "execution_count": 100,
   "id": "75827a3f-9f83-4922-b0fe-e06e17a56297",
   "metadata": {},
   "outputs": [
    {
     "data": {
      "text/plain": [
       "[1, 'bikram', [2, 3, 4, 4, 5], 2, 3, 4, 5, 20, 6]"
      ]
     },
     "execution_count": 100,
     "metadata": {},
     "output_type": "execute_result"
    }
   ],
   "source": [
    "l1#they puted there right possition at -1"
   ]
  },
  {
   "cell_type": "code",
   "execution_count": 101,
   "id": "bfce16cd-e169-469c-8baf-c3850e73d21e",
   "metadata": {},
   "outputs": [
    {
     "data": {
      "text/plain": [
       "6"
      ]
     },
     "execution_count": 101,
     "metadata": {},
     "output_type": "execute_result"
    }
   ],
   "source": [
    "l1.pop()"
   ]
  },
  {
   "cell_type": "code",
   "execution_count": 102,
   "id": "a650a3b4-e879-4d04-ac37-486887357735",
   "metadata": {},
   "outputs": [
    {
     "data": {
      "text/plain": [
       "20"
      ]
     },
     "execution_count": 102,
     "metadata": {},
     "output_type": "execute_result"
    }
   ],
   "source": [
    "l1.pop()"
   ]
  },
  {
   "cell_type": "code",
   "execution_count": 103,
   "id": "18b6bd01-a3a5-4481-bbad-d0009ef02ea3",
   "metadata": {},
   "outputs": [
    {
     "data": {
      "text/plain": [
       "[1, 'bikram', [2, 3, 4, 4, 5], 2, 3, 4, 5]"
      ]
     },
     "execution_count": 103,
     "metadata": {},
     "output_type": "execute_result"
    }
   ],
   "source": [
    "l1"
   ]
  },
  {
   "cell_type": "code",
   "execution_count": 104,
   "id": "2cb4ca02-0c5f-4168-9452-bb6417ee6b97",
   "metadata": {},
   "outputs": [
    {
     "data": {
      "text/plain": [
       "[2, 3, 4, 4, 5]"
      ]
     },
     "execution_count": 104,
     "metadata": {},
     "output_type": "execute_result"
    }
   ],
   "source": [
    "l1.pop(2)"
   ]
  },
  {
   "cell_type": "code",
   "execution_count": 105,
   "id": "62202533-adce-4f7a-9c1d-3f366c5bc255",
   "metadata": {},
   "outputs": [
    {
     "data": {
      "text/plain": [
       "[1, 'bikram', 2, 3, 4, 5]"
      ]
     },
     "execution_count": 105,
     "metadata": {},
     "output_type": "execute_result"
    }
   ],
   "source": [
    "l1"
   ]
  },
  {
   "cell_type": "code",
   "execution_count": 106,
   "id": "b63dc735-9833-4887-911d-821bf020a7e4",
   "metadata": {},
   "outputs": [],
   "source": [
    "l1.remove(2)"
   ]
  },
  {
   "cell_type": "code",
   "execution_count": 107,
   "id": "4fd1da46-ed8a-4c91-abef-009889337b1c",
   "metadata": {},
   "outputs": [
    {
     "data": {
      "text/plain": [
       "[1, 'bikram', 3, 4, 5]"
      ]
     },
     "execution_count": 107,
     "metadata": {},
     "output_type": "execute_result"
    }
   ],
   "source": [
    "l1"
   ]
  },
  {
   "cell_type": "code",
   "execution_count": 109,
   "id": "68a1fcc7-07c3-4201-94c7-17cf45ab4171",
   "metadata": {},
   "outputs": [
    {
     "data": {
      "text/plain": [
       "'bikram'"
      ]
     },
     "execution_count": 109,
     "metadata": {},
     "output_type": "execute_result"
    }
   ],
   "source": [
    "l1[1]\n"
   ]
  },
  {
   "cell_type": "markdown",
   "id": "1cd200b0-6f52-4167-b938-08c07f1513d8",
   "metadata": {
    "jp-MarkdownHeadingCollapsed": true,
    "tags": []
   },
   "source": [
    "l1[1].remove(i)"
   ]
  },
  {
   "cell_type": "code",
   "execution_count": 110,
   "id": "9cd9927a-cfd3-4c11-82aa-7db1c1d291b0",
   "metadata": {},
   "outputs": [
    {
     "data": {
      "text/plain": [
       "[1, 'bikram', 3, 4, 5]"
      ]
     },
     "execution_count": 110,
     "metadata": {},
     "output_type": "execute_result"
    }
   ],
   "source": [
    "l1"
   ]
  },
  {
   "cell_type": "code",
   "execution_count": 116,
   "id": "81c79649-01ae-4d16-9527-4e9c6961e37e",
   "metadata": {},
   "outputs": [
    {
     "data": {
      "text/plain": [
       "'b'"
      ]
     },
     "execution_count": 116,
     "metadata": {},
     "output_type": "execute_result"
    }
   ],
   "source": [
    "l1[1][0:1]"
   ]
  },
  {
   "cell_type": "code",
   "execution_count": 117,
   "id": "052f9292-1478-4261-97a1-c3e637fc59c6",
   "metadata": {},
   "outputs": [],
   "source": [
    "l1.append(4)"
   ]
  },
  {
   "cell_type": "code",
   "execution_count": 118,
   "id": "965d4b5f-651a-480d-9193-c64dc30e6b8c",
   "metadata": {},
   "outputs": [
    {
     "data": {
      "text/plain": [
       "[1, 'bikram', 3, 4, 5, 4]"
      ]
     },
     "execution_count": 118,
     "metadata": {},
     "output_type": "execute_result"
    }
   ],
   "source": [
    "l1"
   ]
  },
  {
   "cell_type": "code",
   "execution_count": 119,
   "id": "ec7e666c-19b8-4502-8b15-24cff9fd83cc",
   "metadata": {},
   "outputs": [],
   "source": [
    "l1.remove(4)"
   ]
  },
  {
   "cell_type": "code",
   "execution_count": 120,
   "id": "fa72eb22-1b63-46fb-9c4c-23a57acd7dd5",
   "metadata": {},
   "outputs": [
    {
     "data": {
      "text/plain": [
       "[1, 'bikram', 3, 5, 4]"
      ]
     },
     "execution_count": 120,
     "metadata": {},
     "output_type": "execute_result"
    }
   ],
   "source": [
    "l1"
   ]
  },
  {
   "cell_type": "code",
   "execution_count": 123,
   "id": "c67e0a36-5042-40cf-8710-cbf8406cce82",
   "metadata": {},
   "outputs": [
    {
     "data": {
      "text/plain": [
       "[4, 5, 3, 'bikram', 1]"
      ]
     },
     "execution_count": 123,
     "metadata": {},
     "output_type": "execute_result"
    }
   ],
   "source": [
    "l1[::-1]#it reverse temporary but not parmanently\n"
   ]
  },
  {
   "cell_type": "code",
   "execution_count": 123,
   "id": "0131cc7c-8e90-4044-8a71-a70d83c3fa26",
   "metadata": {},
   "outputs": [
    {
     "data": {
      "text/plain": [
       "[4, 5, 3, 'bikram', 1]"
      ]
     },
     "execution_count": 123,
     "metadata": {},
     "output_type": "execute_result"
    }
   ],
   "source": [
    "l1=l1[::-1]#it reverse parmantly\n"
   ]
  },
  {
   "cell_type": "code",
   "execution_count": 124,
   "id": "641211e8-1660-404d-b820-33270ff90bfd",
   "metadata": {},
   "outputs": [
    {
     "data": {
      "text/plain": [
       "[1, 'bikram', 3, 5, 4]"
      ]
     },
     "execution_count": 124,
     "metadata": {},
     "output_type": "execute_result"
    }
   ],
   "source": [
    "l1"
   ]
  },
  {
   "cell_type": "code",
   "execution_count": 125,
   "id": "a113e70e-a36a-4ed2-804c-2fbf5844605e",
   "metadata": {},
   "outputs": [],
   "source": [
    "l1.reverse()#reverse string permanently\n"
   ]
  },
  {
   "cell_type": "code",
   "execution_count": 126,
   "id": "3701590d-e509-4bd3-a251-e39626aff345",
   "metadata": {},
   "outputs": [
    {
     "data": {
      "text/plain": [
       "[4, 5, 3, 'bikram', 1]"
      ]
     },
     "execution_count": 126,
     "metadata": {},
     "output_type": "execute_result"
    }
   ],
   "source": [
    "l1"
   ]
  },
  {
   "cell_type": "code",
   "execution_count": 139,
   "id": "73d1fcec-bc6b-4b5e-a38d-b8086dc53b34",
   "metadata": {},
   "outputs": [],
   "source": [
    "l=[1,112,2,21,3,4,5,5,5,7,7,7,7,16,8,9]"
   ]
  },
  {
   "cell_type": "code",
   "execution_count": 133,
   "id": "e0a7d4c1-6683-48f1-8529-dcf165617c7c",
   "metadata": {},
   "outputs": [],
   "source": [
    "l.sort()"
   ]
  },
  {
   "cell_type": "code",
   "execution_count": 134,
   "id": "8d61f77b-ab98-4350-b61d-123822836ccb",
   "metadata": {},
   "outputs": [
    {
     "data": {
      "text/plain": [
       "[1, 2, 3, 4, 5, 7, 8, 9, 16, 21, 112]"
      ]
     },
     "execution_count": 134,
     "metadata": {},
     "output_type": "execute_result"
    }
   ],
   "source": [
    "l"
   ]
  },
  {
   "cell_type": "code",
   "execution_count": 135,
   "id": "336059fb-6808-4a9e-956c-c887f8534147",
   "metadata": {},
   "outputs": [],
   "source": [
    "l.sort(reverse=True)"
   ]
  },
  {
   "cell_type": "code",
   "execution_count": 136,
   "id": "d3ceb9d0-492c-4ec7-a7a7-eb93df59fd26",
   "metadata": {},
   "outputs": [
    {
     "data": {
      "text/plain": [
       "[112, 21, 16, 9, 8, 7, 5, 4, 3, 2, 1]"
      ]
     },
     "execution_count": 136,
     "metadata": {},
     "output_type": "execute_result"
    }
   ],
   "source": [
    "l"
   ]
  },
  {
   "cell_type": "code",
   "execution_count": 137,
   "id": "c07aacb9-96fc-4687-a628-017da5f5caec",
   "metadata": {},
   "outputs": [
    {
     "data": {
      "text/plain": [
       "5"
      ]
     },
     "execution_count": 137,
     "metadata": {},
     "output_type": "execute_result"
    }
   ],
   "source": [
    "l.index(7)"
   ]
  },
  {
   "cell_type": "code",
   "execution_count": 141,
   "id": "a9c9705a-6d32-4cd9-b311-2c518f2f1306",
   "metadata": {},
   "outputs": [
    {
     "data": {
      "text/plain": [
       "4"
      ]
     },
     "execution_count": 141,
     "metadata": {},
     "output_type": "execute_result"
    }
   ],
   "source": [
    "l.count(7)"
   ]
  },
  {
   "cell_type": "code",
   "execution_count": 142,
   "id": "4d4cb689-2595-4a19-83d8-606fbbdf3a69",
   "metadata": {},
   "outputs": [],
   "source": [
    "l[0]=\"bik\""
   ]
  },
  {
   "cell_type": "code",
   "execution_count": 143,
   "id": "93d8858a-5b31-4a1a-8f4b-758e8ea0d3b8",
   "metadata": {},
   "outputs": [
    {
     "data": {
      "text/plain": [
       "['bik', 112, 2, 21, 3, 4, 5, 5, 5, 7, 7, 7, 7, 16, 8, 9]"
      ]
     },
     "execution_count": 143,
     "metadata": {},
     "output_type": "execute_result"
    }
   ],
   "source": [
    "l"
   ]
  },
  {
   "cell_type": "code",
   "execution_count": 2,
   "id": "d0f62c71-4c54-49c2-b141-f5bb89303484",
   "metadata": {},
   "outputs": [],
   "source": [
    "s=\"bikram\""
   ]
  },
  {
   "cell_type": "code",
   "execution_count": 145,
   "id": "4e3285bf-20a5-499f-8054-7b546110e64f",
   "metadata": {},
   "outputs": [
    {
     "data": {
      "text/plain": [
       "'b'"
      ]
     },
     "execution_count": 145,
     "metadata": {},
     "output_type": "execute_result"
    }
   ],
   "source": [
    "s[0]"
   ]
  },
  {
   "cell_type": "code",
   "execution_count": 146,
   "id": "4df35b36-026e-46c9-8e26-96aff7ebff62",
   "metadata": {},
   "outputs": [
    {
     "ename": "TypeError",
     "evalue": "'str' object does not support item assignment",
     "output_type": "error",
     "traceback": [
      "\u001b[0;31m---------------------------------------------------------------------------\u001b[0m",
      "\u001b[0;31mTypeError\u001b[0m                                 Traceback (most recent call last)",
      "Cell \u001b[0;32mIn[146], line 1\u001b[0m\n\u001b[0;32m----> 1\u001b[0m \u001b[43ms\u001b[49m\u001b[43m[\u001b[49m\u001b[38;5;241;43m0\u001b[39;49m\u001b[43m]\u001b[49m\u001b[38;5;241m=\u001b[39m\u001b[38;5;124m'\u001b[39m\u001b[38;5;124mc\u001b[39m\u001b[38;5;124m'\u001b[39m\n",
      "\u001b[0;31mTypeError\u001b[0m: 'str' object does not support item assignment"
     ]
    }
   ],
   "source": [
    "s[0]='c'#string canot be assign because\n",
    "it is not mutable"
   ]
  },
  {
   "cell_type": "code",
   "execution_count": 152,
   "id": "c240fe23-cccd-40c3-b848-54d7b227b2ec",
   "metadata": {},
   "outputs": [
    {
     "data": {
      "text/plain": [
       "'aikram'"
      ]
     },
     "execution_count": 152,
     "metadata": {},
     "output_type": "execute_result"
    }
   ],
   "source": [
    "s.replace('b','a')#see there was be swappbut not permanently\n"
   ]
  },
  {
   "cell_type": "code",
   "execution_count": 155,
   "id": "183971a8-dc0a-4f0e-bf21-1a2f8f3ec273",
   "metadata": {},
   "outputs": [
    {
     "data": {
      "text/plain": [
       "'bikram'"
      ]
     },
     "execution_count": 155,
     "metadata": {},
     "output_type": "execute_result"
    }
   ],
   "source": [
    "s"
   ]
  },
  {
   "cell_type": "code",
   "execution_count": null,
   "id": "7805dc50-9012-4590-a956-647f67ed97bd",
   "metadata": {},
   "outputs": [],
   "source": [
    "string are mutable and list is mutable"
   ]
  },
  {
   "cell_type": "code",
   "execution_count": 3,
   "id": "4ad6d65e-9882-48fb-88c6-c09d13b41a81",
   "metadata": {},
   "outputs": [
    {
     "data": {
      "text/plain": [
       "'bikrambikrambikram'"
      ]
     },
     "execution_count": 3,
     "metadata": {},
     "output_type": "execute_result"
    }
   ],
   "source": [
    "s*3"
   ]
  },
  {
   "cell_type": "code",
   "execution_count": 4,
   "id": "90d03649-4497-4868-a107-a0eb649994ef",
   "metadata": {},
   "outputs": [],
   "source": [
    "l1=[\"bik\",\"ghfg\",\"gffhf\",\"gfsgfsf\",\"sgdgdg\"]"
   ]
  },
  {
   "cell_type": "code",
   "execution_count": 5,
   "id": "48e0432f-42ed-42a9-be72-68aca1464a76",
   "metadata": {},
   "outputs": [],
   "source": [
    "l1.sort()"
   ]
  },
  {
   "cell_type": "code",
   "execution_count": 6,
   "id": "41baa58f-7294-4e93-808c-ef9df3642e6a",
   "metadata": {},
   "outputs": [
    {
     "data": {
      "text/plain": [
       "['bik', 'gffhf', 'gfsgfsf', 'ghfg', 'sgdgdg']"
      ]
     },
     "execution_count": 6,
     "metadata": {},
     "output_type": "execute_result"
    }
   ],
   "source": [
    "l1"
   ]
  },
  {
   "cell_type": "code",
   "execution_count": 8,
   "id": "f1e42f81-d01c-4b03-945b-e0d8a25b3d48",
   "metadata": {},
   "outputs": [],
   "source": [
    "l1.sort(reverse=True)"
   ]
  },
  {
   "cell_type": "code",
   "execution_count": 9,
   "id": "a17d9976-f96b-4d42-a73d-aefde463e070",
   "metadata": {},
   "outputs": [
    {
     "data": {
      "text/plain": [
       "['sgdgdg', 'ghfg', 'gfsgfsf', 'gffhf', 'bik']"
      ]
     },
     "execution_count": 9,
     "metadata": {},
     "output_type": "execute_result"
    }
   ],
   "source": [
    "l1"
   ]
  },
  {
   "cell_type": "code",
   "execution_count": 11,
   "id": "a50e334c-0865-4529-ac4f-1ee429ee48b0",
   "metadata": {},
   "outputs": [
    {
     "data": {
      "text/plain": [
       "4"
      ]
     },
     "execution_count": 11,
     "metadata": {},
     "output_type": "execute_result"
    }
   ],
   "source": [
    "l1.index(\"bik\")"
   ]
  },
  {
   "cell_type": "code",
   "execution_count": 12,
   "id": "c6f89e96-209a-411a-867e-836062298a5f",
   "metadata": {},
   "outputs": [
    {
     "data": {
      "text/plain": [
       "1"
      ]
     },
     "execution_count": 12,
     "metadata": {},
     "output_type": "execute_result"
    }
   ],
   "source": [
    "l1.count(\"bik\")"
   ]
  },
  {
   "cell_type": "code",
   "execution_count": 13,
   "id": "3ef200b1-faf0-4bce-9877-0b2519000137",
   "metadata": {},
   "outputs": [],
   "source": [
    "s=\"bikram\""
   ]
  },
  {
   "cell_type": "code",
   "execution_count": 14,
   "id": "101d30af-8183-4565-8a0f-ace0c65ad1b2",
   "metadata": {},
   "outputs": [
    {
     "data": {
      "text/plain": [
       "'b'"
      ]
     },
     "execution_count": 14,
     "metadata": {},
     "output_type": "execute_result"
    }
   ],
   "source": [
    "s[0]"
   ]
  },
  {
   "cell_type": "code",
   "execution_count": 15,
   "id": "7fa6eeb0-444b-4f5b-8c13-26acfc5abb49",
   "metadata": {},
   "outputs": [
    {
     "ename": "TypeError",
     "evalue": "'str' object does not support item assignment",
     "output_type": "error",
     "traceback": [
      "\u001b[0;31m---------------------------------------------------------------------------\u001b[0m",
      "\u001b[0;31mTypeError\u001b[0m                                 Traceback (most recent call last)",
      "Cell \u001b[0;32mIn[15], line 1\u001b[0m\n\u001b[0;32m----> 1\u001b[0m \u001b[43ms\u001b[49m\u001b[43m[\u001b[49m\u001b[38;5;241;43m0\u001b[39;49m\u001b[43m]\u001b[49m\u001b[38;5;241m=\u001b[39m\u001b[38;5;124m'\u001b[39m\u001b[38;5;124me\u001b[39m\u001b[38;5;124m'\u001b[39m\n",
      "\u001b[0;31mTypeError\u001b[0m: 'str' object does not support item assignment"
     ]
    }
   ],
   "source": [
    "s[0]='e'"
   ]
  },
  {
   "cell_type": "code",
   "execution_count": 16,
   "id": "53293423-8691-4b57-abe1-e7e9d7c2ba73",
   "metadata": {},
   "outputs": [],
   "source": [
    "l1[0]=30"
   ]
  },
  {
   "cell_type": "code",
   "execution_count": 17,
   "id": "52425006-5eaf-4cd3-b876-1d6233a97d43",
   "metadata": {},
   "outputs": [
    {
     "data": {
      "text/plain": [
       "[30, 'ghfg', 'gfsgfsf', 'gffhf', 'bik']"
      ]
     },
     "execution_count": 17,
     "metadata": {},
     "output_type": "execute_result"
    }
   ],
   "source": [
    "l1"
   ]
  },
  {
   "cell_type": "code",
   "execution_count": 19,
   "id": "616bedfa-36e8-4892-bc9a-5b9ba18ebb26",
   "metadata": {},
   "outputs": [
    {
     "data": {
      "text/plain": [
       "'dikram'"
      ]
     },
     "execution_count": 19,
     "metadata": {},
     "output_type": "execute_result"
    }
   ],
   "source": [
    "s.replace('b','d')#dont replace it assign to new memory"
   ]
  },
  {
   "cell_type": "code",
   "execution_count": 20,
   "id": "57008f3e-5eb6-432f-95ba-61d61d713301",
   "metadata": {},
   "outputs": [
    {
     "data": {
      "text/plain": [
       "'bikram'"
      ]
     },
     "execution_count": 20,
     "metadata": {},
     "output_type": "execute_result"
    }
   ],
   "source": [
    "s"
   ]
  },
  {
   "cell_type": "code",
   "execution_count": null,
   "id": "bcbb6a1f-1f60-44d4-be06-98fc1b2997df",
   "metadata": {},
   "outputs": [],
   "source": [
    "#tuple "
   ]
  },
  {
   "cell_type": "code",
   "execution_count": 21,
   "id": "9ee1ec48-c962-4db2-890e-057c2914e5ed",
   "metadata": {},
   "outputs": [],
   "source": [
    "t=(3,4,5,55,'r',\"bikram\",45+5j,[2,42,4])"
   ]
  },
  {
   "cell_type": "code",
   "execution_count": 22,
   "id": "60851e66-2bd0-4f26-b56e-79e60c48ccc7",
   "metadata": {},
   "outputs": [
    {
     "data": {
      "text/plain": [
       "(3, 4, 5, 55, 'r', 'bikram', (45+5j), [2, 42, 4])"
      ]
     },
     "execution_count": 22,
     "metadata": {},
     "output_type": "execute_result"
    }
   ],
   "source": [
    "t"
   ]
  },
  {
   "cell_type": "code",
   "execution_count": 24,
   "id": "6939ee7e-2bbe-4fdc-b516-55ffaee79417",
   "metadata": {},
   "outputs": [
    {
     "data": {
      "text/plain": [
       "tuple"
      ]
     },
     "execution_count": 24,
     "metadata": {},
     "output_type": "execute_result"
    }
   ],
   "source": [
    "type(t)"
   ]
  },
  {
   "cell_type": "code",
   "execution_count": 25,
   "id": "090d9304-c869-477e-9358-4a1b29b506bb",
   "metadata": {},
   "outputs": [
    {
     "data": {
      "text/plain": [
       "8"
      ]
     },
     "execution_count": 25,
     "metadata": {},
     "output_type": "execute_result"
    }
   ],
   "source": [
    "len(t)"
   ]
  },
  {
   "cell_type": "code",
   "execution_count": 26,
   "id": "a87bb2ed-be00-4e26-9481-c70cda2d1e12",
   "metadata": {},
   "outputs": [
    {
     "data": {
      "text/plain": [
       "3"
      ]
     },
     "execution_count": 26,
     "metadata": {},
     "output_type": "execute_result"
    }
   ],
   "source": [
    "t[0]"
   ]
  },
  {
   "cell_type": "code",
   "execution_count": 27,
   "id": "9c2b7666-9cac-4ec6-8826-bffb6127ea37",
   "metadata": {},
   "outputs": [
    {
     "data": {
      "text/plain": [
       "list"
      ]
     },
     "execution_count": 27,
     "metadata": {},
     "output_type": "execute_result"
    }
   ],
   "source": [
    "type(t[-1])"
   ]
  },
  {
   "cell_type": "code",
   "execution_count": 32,
   "id": "c4087d1c-9466-4ba7-81e9-421fc9b64ff7",
   "metadata": {},
   "outputs": [
    {
     "data": {
      "text/plain": [
       "list"
      ]
     },
     "execution_count": 32,
     "metadata": {},
     "output_type": "execute_result"
    }
   ],
   "source": [
    "type([t[-2]])"
   ]
  },
  {
   "cell_type": "code",
   "execution_count": 33,
   "id": "a63d98d9-ece9-4301-a146-5dafc7b10342",
   "metadata": {},
   "outputs": [
    {
     "data": {
      "text/plain": [
       "([2, 42, 4], (45+5j), 'bikram', 'r', 55, 5, 4, 3)"
      ]
     },
     "execution_count": 33,
     "metadata": {},
     "output_type": "execute_result"
    }
   ],
   "source": [
    "t[::-1]"
   ]
  },
  {
   "cell_type": "code",
   "execution_count": 34,
   "id": "123d3dd2-e428-4892-b87d-239d85eae6a0",
   "metadata": {},
   "outputs": [
    {
     "data": {
      "text/plain": [
       "[30, 'ghfg', 'gfsgfsf', 'gffhf', 'bik']"
      ]
     },
     "execution_count": 34,
     "metadata": {},
     "output_type": "execute_result"
    }
   ],
   "source": [
    "l1"
   ]
  },
  {
   "cell_type": "code",
   "execution_count": 35,
   "id": "601c4aba-3abe-4e61-bfbd-937354b40518",
   "metadata": {},
   "outputs": [],
   "source": [
    "l1[1]=34343"
   ]
  },
  {
   "cell_type": "code",
   "execution_count": 36,
   "id": "2e2ce1e4-1a1d-4459-8fc9-114a5c5bd7b4",
   "metadata": {},
   "outputs": [
    {
     "data": {
      "text/plain": [
       "[30, 34343, 'gfsgfsf', 'gffhf', 'bik']"
      ]
     },
     "execution_count": 36,
     "metadata": {},
     "output_type": "execute_result"
    }
   ],
   "source": [
    "l1"
   ]
  },
  {
   "cell_type": "code",
   "execution_count": 37,
   "id": "2d0a5988-6089-4932-a25e-e26e2fbb112e",
   "metadata": {},
   "outputs": [
    {
     "data": {
      "text/plain": [
       "(3, 4, 5, 55, 'r', 'bikram', (45+5j), [2, 42, 4])"
      ]
     },
     "execution_count": 37,
     "metadata": {},
     "output_type": "execute_result"
    }
   ],
   "source": [
    "t"
   ]
  },
  {
   "cell_type": "code",
   "execution_count": 39,
   "id": "dfe1a9a7-c219-4dca-b9d7-30c4024ef257",
   "metadata": {},
   "outputs": [
    {
     "ename": "TypeError",
     "evalue": "'tuple' object does not support item assignment",
     "output_type": "error",
     "traceback": [
      "\u001b[0;31m---------------------------------------------------------------------------\u001b[0m",
      "\u001b[0;31mTypeError\u001b[0m                                 Traceback (most recent call last)",
      "Cell \u001b[0;32mIn[39], line 1\u001b[0m\n\u001b[0;32m----> 1\u001b[0m \u001b[43mt\u001b[49m\u001b[43m[\u001b[49m\u001b[38;5;241;43m0\u001b[39;49m\u001b[43m]\u001b[49m\u001b[38;5;241m=\u001b[39m\u001b[38;5;241m3\u001b[39m \n",
      "\u001b[0;31mTypeError\u001b[0m: 'tuple' object does not support item assignment"
     ]
    }
   ],
   "source": [
    "t[0]=3 "
   ]
  },
  {
   "cell_type": "code",
   "execution_count": null,
   "id": "a3178542-62f6-42b5-b014-b510dcf08321",
   "metadata": {},
   "outputs": [],
   "source": [
    "#the different between list and tuple\n",
    "#list is mutable and tuple is a immutable\n",
    "#the dont assign at spacific location \n",
    "#it help to use in password this type data require"
   ]
  },
  {
   "cell_type": "code",
   "execution_count": 40,
   "id": "356fec1a-eeaf-49f9-b14c-4b7ffabd145b",
   "metadata": {},
   "outputs": [
    {
     "data": {
      "text/plain": [
       "([2, 42, 4], (45+5j), 'bikram', 'r', 55, 5, 4, 3)"
      ]
     },
     "execution_count": 40,
     "metadata": {},
     "output_type": "execute_result"
    }
   ],
   "source": [
    "t[::-1]"
   ]
  },
  {
   "cell_type": "code",
   "execution_count": null,
   "id": "d53cb7df-5e62-4f5d-aa08-420522141d34",
   "metadata": {},
   "outputs": [],
   "source": [
    "t=t[::-1]#in there you assign a value "
   ]
  },
  {
   "cell_type": "code",
   "execution_count": 41,
   "id": "ba09baf7-059c-4639-a7d7-7105f0d9ce0c",
   "metadata": {},
   "outputs": [
    {
     "data": {
      "text/plain": [
       "1"
      ]
     },
     "execution_count": 41,
     "metadata": {},
     "output_type": "execute_result"
    }
   ],
   "source": [
    "t.count(4)"
   ]
  },
  {
   "cell_type": "code",
   "execution_count": 42,
   "id": "910ad9c9-60d5-48dc-aa39-acf755007b39",
   "metadata": {},
   "outputs": [
    {
     "data": {
      "text/plain": [
       "(3, 4, 5, 55, 'r', 'bikram', (45+5j), [2, 42, 4])"
      ]
     },
     "execution_count": 42,
     "metadata": {},
     "output_type": "execute_result"
    }
   ],
   "source": [
    "t"
   ]
  },
  {
   "cell_type": "code",
   "execution_count": 44,
   "id": "1c9a4482-deb2-4c29-a467-46b7e7280000",
   "metadata": {},
   "outputs": [
    {
     "data": {
      "text/plain": [
       "5"
      ]
     },
     "execution_count": 44,
     "metadata": {},
     "output_type": "execute_result"
    }
   ],
   "source": [
    "t.index(\"bikram\")"
   ]
  },
  {
   "cell_type": "code",
   "execution_count": 45,
   "id": "92c4328a-9a1b-44d7-a484-5a5b597a36d1",
   "metadata": {},
   "outputs": [
    {
     "data": {
      "text/plain": [
       "(3, 4, 5, 55, 'r', 'bikram', (45+5j), [2, 42, 4])"
      ]
     },
     "execution_count": 45,
     "metadata": {},
     "output_type": "execute_result"
    }
   ],
   "source": [
    "t"
   ]
  },
  {
   "cell_type": "code",
   "execution_count": 46,
   "id": "314cdd8d-cab7-4a29-81ed-a6d1746066a2",
   "metadata": {},
   "outputs": [],
   "source": [
    "s1={}\n"
   ]
  },
  {
   "cell_type": "code",
   "execution_count": 47,
   "id": "00e92d0f-16f5-46dd-a829-3f61b0bfa5d8",
   "metadata": {},
   "outputs": [
    {
     "data": {
      "text/plain": [
       "dict"
      ]
     },
     "execution_count": 47,
     "metadata": {},
     "output_type": "execute_result"
    }
   ],
   "source": [
    "type(s1)"
   ]
  },
  {
   "cell_type": "code",
   "execution_count": 48,
   "id": "e71a4043-847a-4353-8dee-8031bd8ed4d6",
   "metadata": {},
   "outputs": [],
   "source": [
    "s2={2,3,4,5,6}"
   ]
  },
  {
   "cell_type": "code",
   "execution_count": 49,
   "id": "c1e2bb78-4c9f-4837-b626-78f63e2a72f8",
   "metadata": {},
   "outputs": [
    {
     "data": {
      "text/plain": [
       "set"
      ]
     },
     "execution_count": 49,
     "metadata": {},
     "output_type": "execute_result"
    }
   ],
   "source": [
    "type(s2)"
   ]
  },
  {
   "cell_type": "code",
   "execution_count": 53,
   "id": "56d73aa6-bcae-4bd4-89dc-39a1d28df12b",
   "metadata": {},
   "outputs": [
    {
     "ename": "TypeError",
     "evalue": "unhashable type: 'list'",
     "output_type": "error",
     "traceback": [
      "\u001b[0;31m---------------------------------------------------------------------------\u001b[0m",
      "\u001b[0;31mTypeError\u001b[0m                                 Traceback (most recent call last)",
      "Cell \u001b[0;32mIn[53], line 1\u001b[0m\n\u001b[0;32m----> 1\u001b[0m s3\u001b[38;5;241m=\u001b[39m{\u001b[38;5;241m2323\u001b[39m,\u001b[38;5;241m4344\u001b[39m,\u001b[38;5;241m4434\u001b[39m,\u001b[38;5;124m\"\u001b[39m\u001b[38;5;124mff4f\u001b[39m\u001b[38;5;124m\"\u001b[39m,[\u001b[38;5;241m3\u001b[39m,\u001b[38;5;241m4\u001b[39m,\u001b[38;5;241m5\u001b[39m]}\n",
      "\u001b[0;31mTypeError\u001b[0m: unhashable type: 'list'"
     ]
    }
   ],
   "source": [
    "s3={2323,4344,4434,\"ff4f\",[3,4,5]}#\n",
    "#they don't take list inthe set \n",
    "#because they take immutable object"
   ]
  },
  {
   "cell_type": "code",
   "execution_count": 54,
   "id": "8a595fa6-8494-4c55-9eee-ee5200d167ea",
   "metadata": {},
   "outputs": [],
   "source": [
    "s3={2323,4344,4434,\"ff4f\",(3,4,3)}#but they contain tuple\n",
    "# "
   ]
  },
  {
   "cell_type": "code",
   "execution_count": 51,
   "id": "53720039-93ea-45c2-bab6-c2972eedf5db",
   "metadata": {},
   "outputs": [
    {
     "data": {
      "text/plain": [
       "set"
      ]
     },
     "execution_count": 51,
     "metadata": {},
     "output_type": "execute_result"
    }
   ],
   "source": [
    "type(s3)"
   ]
  },
  {
   "cell_type": "code",
   "execution_count": 57,
   "id": "44585a4d-3957-4a9e-8204-457f2104ee3c",
   "metadata": {},
   "outputs": [],
   "source": [
    "s4={2,4,5,6,7,5,5,5,89,0,\"Bik\",\"bik\",4,4,6,6,5,6}\n",
    "#it remove dublicate element\n"
   ]
  },
  {
   "cell_type": "code",
   "execution_count": 52,
   "id": "1270a53a-73c4-41d3-a290-2d0cd4d648c8",
   "metadata": {},
   "outputs": [
    {
     "data": {
      "text/plain": [
       "{2323, 4344, 4434, 'ff4f'}"
      ]
     },
     "execution_count": 52,
     "metadata": {},
     "output_type": "execute_result"
    }
   ],
   "source": [
    "s3"
   ]
  },
  {
   "cell_type": "code",
   "execution_count": 55,
   "id": "aa32b0c8-98f1-408f-bc79-f2969034fcdf",
   "metadata": {},
   "outputs": [],
   "source": [
    "s4={2,4,5,6,7,5,5,5,89,0,4,4,6,6,5,6}\n",
    "#it remove dublicate element\n"
   ]
  },
  {
   "cell_type": "code",
   "execution_count": 56,
   "id": "6f8305fd-09b2-4a48-8b69-ae8a210eeda2",
   "metadata": {},
   "outputs": [
    {
     "data": {
      "text/plain": [
       "{0, 2, 4, 5, 6, 7, 89}"
      ]
     },
     "execution_count": 56,
     "metadata": {},
     "output_type": "execute_result"
    }
   ],
   "source": [
    "s4"
   ]
  },
  {
   "cell_type": "code",
   "execution_count": 58,
   "id": "c97c796b-4495-418f-b965-0a0ecc93fb47",
   "metadata": {},
   "outputs": [
    {
     "data": {
      "text/plain": [
       "{0, 2, 4, 5, 6, 7, 89, 'Bik', 'bik'}"
      ]
     },
     "execution_count": 58,
     "metadata": {},
     "output_type": "execute_result"
    }
   ],
   "source": [
    "s4#why they not eleminated bik that come two time\n",
    "becacuse python is case sansitive language\n",
    "#it is diefferent string"
   ]
  },
  {
   "cell_type": "code",
   "execution_count": 60,
   "id": "d9f2220f-8fba-4917-b8f2-db5f564df6ac",
   "metadata": {},
   "outputs": [
    {
     "data": {
      "text/plain": [
       "{0, 2, 4, 5, 6, 7, 89, 'Bik', 'bik'}"
      ]
     },
     "execution_count": 60,
     "metadata": {},
     "output_type": "execute_result"
    }
   ],
   "source": [
    "s4=s4"
   ]
  },
  {
   "cell_type": "code",
   "execution_count": 61,
   "id": "4766713e-6b39-4568-829e-ce3ff0877d7b",
   "metadata": {},
   "outputs": [],
   "source": [
    "l4=[1,2,33,3,3,4,4,4,4,5,5,6,7,8,9,0,1]\n"
   ]
  },
  {
   "cell_type": "code",
   "execution_count": 62,
   "id": "bbbd6764-f98a-409c-b06d-b1f0c406be51",
   "metadata": {},
   "outputs": [
    {
     "data": {
      "text/plain": [
       "{0, 1, 2, 3, 4, 5, 6, 7, 8, 9, 33}"
      ]
     },
     "execution_count": 62,
     "metadata": {},
     "output_type": "execute_result"
    }
   ],
   "source": [
    "set(l4)"
   ]
  },
  {
   "cell_type": "code",
   "execution_count": 63,
   "id": "5a8bfbd9-6d9f-4819-b906-1f0250cbafc9",
   "metadata": {},
   "outputs": [],
   "source": [
    "l4=set(l4)#to remove doublicate in list"
   ]
  },
  {
   "cell_type": "code",
   "execution_count": 65,
   "id": "73a935ed-7356-478c-a169-b913e929ad60",
   "metadata": {},
   "outputs": [],
   "source": [
    "l4=list(set(l4))#and arrange in order"
   ]
  },
  {
   "cell_type": "markdown",
   "id": "6d1dd270-1b9d-4f45-8b2e-c8cc50353292",
   "metadata": {},
   "source": [
    "l4"
   ]
  },
  {
   "cell_type": "code",
   "execution_count": 66,
   "id": "a5bb52f4-b863-40f8-ad4c-0b5c500ff3b9",
   "metadata": {},
   "outputs": [
    {
     "data": {
      "text/plain": [
       "[0, 1, 2, 3, 4, 33, 5, 6, 7, 8, 9]"
      ]
     },
     "execution_count": 66,
     "metadata": {},
     "output_type": "execute_result"
    }
   ],
   "source": [
    "l4"
   ]
  },
  {
   "cell_type": "code",
   "execution_count": 69,
   "id": "fbc046df-9d8e-46c1-bd64-ab03c7ee9b34",
   "metadata": {},
   "outputs": [],
   "source": [
    "s={1,2,3,4,3,5,\"bik\",6,75,78,4,6}"
   ]
  },
  {
   "cell_type": "code",
   "execution_count": 70,
   "id": "606cccc1-99e2-418e-b9d9-ce3763e91472",
   "metadata": {},
   "outputs": [
    {
     "data": {
      "text/plain": [
       "{1, 2, 3, 4, 5, 6, 75, 78, 'bik'}"
      ]
     },
     "execution_count": 70,
     "metadata": {},
     "output_type": "execute_result"
    }
   ],
   "source": [
    "s"
   ]
  },
  {
   "cell_type": "code",
   "execution_count": 71,
   "id": "48f3320b-fadd-4aa2-8667-b8932bb82ea4",
   "metadata": {},
   "outputs": [],
   "source": [
    "s5={234,45,23,12,567,45,2,789,243,\"abc\",456,342,23}"
   ]
  },
  {
   "cell_type": "code",
   "execution_count": 72,
   "id": "c3f7ba75-5ac7-4e03-90a8-32e195d78213",
   "metadata": {},
   "outputs": [
    {
     "data": {
      "text/plain": [
       "{12, 2, 23, 234, 243, 342, 45, 456, 567, 789, 'abc'}"
      ]
     },
     "execution_count": 72,
     "metadata": {},
     "output_type": "execute_result"
    }
   ],
   "source": [
    "s5#se never arrange the data it like"
   ]
  },
  {
   "cell_type": "code",
   "execution_count": 73,
   "id": "ccab56b1-7c0b-4ec4-a6d5-5d7cb973c122",
   "metadata": {},
   "outputs": [
    {
     "ename": "TypeError",
     "evalue": "'set' object is not subscriptable",
     "output_type": "error",
     "traceback": [
      "\u001b[0;31m---------------------------------------------------------------------------\u001b[0m",
      "\u001b[0;31mTypeError\u001b[0m                                 Traceback (most recent call last)",
      "Cell \u001b[0;32mIn[73], line 1\u001b[0m\n\u001b[0;32m----> 1\u001b[0m \u001b[43ms5\u001b[49m\u001b[43m[\u001b[49m\u001b[38;5;241;43m0\u001b[39;49m\u001b[43m]\u001b[49m\n",
      "\u001b[0;31mTypeError\u001b[0m: 'set' object is not subscriptable"
     ]
    }
   ],
   "source": [
    "s5[0]#we can't access set"
   ]
  },
  {
   "cell_type": "code",
   "execution_count": 74,
   "id": "7e2d5ef9-1f8a-47af-8bd9-7e49d145bd18",
   "metadata": {},
   "outputs": [
    {
     "ename": "TypeError",
     "evalue": "'set' object is not subscriptable",
     "output_type": "error",
     "traceback": [
      "\u001b[0;31m---------------------------------------------------------------------------\u001b[0m",
      "\u001b[0;31mTypeError\u001b[0m                                 Traceback (most recent call last)",
      "Cell \u001b[0;32mIn[74], line 1\u001b[0m\n\u001b[0;32m----> 1\u001b[0m \u001b[43ms5\u001b[49m\u001b[43m[\u001b[49m\u001b[43m:\u001b[49m\u001b[43m:\u001b[49m\u001b[38;5;241;43m-\u001b[39;49m\u001b[38;5;241;43m1\u001b[39;49m\u001b[43m]\u001b[49m\n",
      "\u001b[0;31mTypeError\u001b[0m: 'set' object is not subscriptable"
     ]
    }
   ],
   "source": [
    "s5[::-1]#we can't slice the set"
   ]
  },
  {
   "cell_type": "code",
   "execution_count": 75,
   "id": "a1aa543b-efd4-478d-b6c9-309094e123cc",
   "metadata": {},
   "outputs": [],
   "source": [
    "s5.add(5)"
   ]
  },
  {
   "cell_type": "code",
   "execution_count": 76,
   "id": "918246e3-f68b-4ffa-a47a-94bca9637405",
   "metadata": {},
   "outputs": [
    {
     "data": {
      "text/plain": [
       "{12, 2, 23, 234, 243, 342, 45, 456, 5, 567, 789, 'abc'}"
      ]
     },
     "execution_count": 76,
     "metadata": {},
     "output_type": "execute_result"
    }
   ],
   "source": [
    "s5#set don't follow index ot floo hash indexing "
   ]
  },
  {
   "cell_type": "code",
   "execution_count": 77,
   "id": "c1524f0d-336d-44a1-a1d7-11d8c2ef523b",
   "metadata": {},
   "outputs": [],
   "source": [
    "s5.remove(5)"
   ]
  },
  {
   "cell_type": "code",
   "execution_count": 78,
   "id": "7b90f012-e375-43cb-a047-c8733af9d9ba",
   "metadata": {},
   "outputs": [
    {
     "data": {
      "text/plain": [
       "{12, 2, 23, 234, 243, 342, 45, 456, 567, 789, 'abc'}"
      ]
     },
     "execution_count": 78,
     "metadata": {},
     "output_type": "execute_result"
    }
   ],
   "source": [
    "s5"
   ]
  },
  {
   "cell_type": "code",
   "execution_count": 79,
   "id": "09dc4281-0446-4b80-9f91-44829b394ecb",
   "metadata": {},
   "outputs": [
    {
     "data": {
      "text/plain": [
       "{12, 2, 23, 234, 243, 342, 45, 456, 567, 789, 'abc'}"
      ]
     },
     "execution_count": 79,
     "metadata": {},
     "output_type": "execute_result"
    }
   ],
   "source": [
    "s5"
   ]
  },
  {
   "cell_type": "code",
   "execution_count": null,
   "id": "5fe9ca66-3678-457a-a11a-3f18f74ebddb",
   "metadata": {},
   "outputs": [],
   "source": []
  }
 ],
 "metadata": {
  "kernelspec": {
   "display_name": "Python 3 (ipykernel)",
   "language": "python",
   "name": "python3"
  },
  "language_info": {
   "codemirror_mode": {
    "name": "ipython",
    "version": 3
   },
   "file_extension": ".py",
   "mimetype": "text/x-python",
   "name": "python",
   "nbconvert_exporter": "python",
   "pygments_lexer": "ipython3",
   "version": "3.10.8"
  }
 },
 "nbformat": 4,
 "nbformat_minor": 5
}
